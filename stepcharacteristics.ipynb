{
 "cells": [
  {
   "cell_type": "code",
   "execution_count": 893,
   "metadata": {},
   "outputs": [],
   "source": [
    "import numpy as np\n",
    "import matplotlib.pyplot as plt\n",
    "import numpy.polynomial.legendre as leg"
   ]
  },
  {
   "attachments": {},
   "cell_type": "markdown",
   "metadata": {},
   "source": [
    "Set up classes"
   ]
  },
  {
   "cell_type": "code",
   "execution_count": 894,
   "metadata": {},
   "outputs": [],
   "source": [
    "class particle:\n",
    "     def __init__(self, alive, mu, x, g, w):\n",
    "        self.alive = alive\n",
    "        self.mu = mu\n",
    "        self.x = x\n",
    "        self.g = g\n",
    "        self.w = w"
   ]
  },
  {
   "cell_type": "code",
   "execution_count": 895,
   "metadata": {},
   "outputs": [],
   "source": [
    "class source:\n",
    "    def __init__(self, scatter, fission):\n",
    "        self.scatter = scatter\n",
    "        self.fission = fission"
   ]
  },
  {
   "cell_type": "code",
   "execution_count": 896,
   "metadata": {},
   "outputs": [],
   "source": [
    "class tally:\n",
    "    def __init__(self, scalar_flux, current, k):\n",
    "        self.scalar_flux = scalar_flux\n",
    "        self.current = current\n",
    "        self.k = k\n",
    "    \n",
    "    def zero_g(self, g):\n",
    "        self.scalar_flux[:, g] *= 0\n",
    "        self.current[:, g] *= 0\n",
    "\n",
    "    def zero(self):\n",
    "        self.scalar_flux *= 0\n",
    "        self.current *= 0"
   ]
  },
  {
   "cell_type": "code",
   "execution_count": 897,
   "metadata": {},
   "outputs": [],
   "source": [
    "class material:\n",
    "    def __init__(self, nuSigmaF, SigmaS, SigmaT):\n",
    "        self.nuSigmaF = nuSigmaF\n",
    "        self.SigmaS = SigmaS\n",
    "        self.SigmaT = SigmaT"
   ]
  },
  {
   "cell_type": "code",
   "execution_count": 898,
   "metadata": {},
   "outputs": [],
   "source": [
    "class cell:\n",
    "    def __init__(self, left, right, material):\n",
    "        self.left = left\n",
    "        self.right = right\n",
    "        self.material = material"
   ]
  },
  {
   "cell_type": "code",
   "execution_count": 899,
   "metadata": {},
   "outputs": [],
   "source": [
    "class mesh:\n",
    "    def __init__(self, Nx, L, bc, U, W):\n",
    "        self.Nx = Nx\n",
    "        self.L = L\n",
    "        self.dx = L/(Nx-1)\n",
    "        self.mesh_x = np.linspace(0, L, Nx)\n",
    "        self.mesh_flux = np.linspace(0, L, Nx-1)\n",
    "        self.bc = bc\n",
    "        self.U = U\n",
    "        self.W = W"
   ]
  },
  {
   "cell_type": "code",
   "execution_count": 900,
   "metadata": {},
   "outputs": [],
   "source": [
    "class bc:\n",
    "    def __init__(self, bc):\n",
    "        self.bc = bc"
   ]
  },
  {
   "attachments": {},
   "cell_type": "markdown",
   "metadata": {},
   "source": [
    "Set up functions"
   ]
  },
  {
   "cell_type": "code",
   "execution_count": 901,
   "metadata": {},
   "outputs": [],
   "source": [
    "def zero_tally(tally):\n",
    "    tally.scalar_flux = np.zeros_like(tally.scalar_flux)\n",
    "    tally.current = np.zeros_like(tally.current)"
   ]
  },
  {
   "cell_type": "code",
   "execution_count": 902,
   "metadata": {},
   "outputs": [],
   "source": [
    "def f_convergence(new, old):\n",
    "    # convergence criteria\n",
    "    epi = 1e-5\n",
    "    if np.amax(abs(new - old)) < epi:\n",
    "        return True\n",
    "    else:\n",
    "        return False"
   ]
  },
  {
   "cell_type": "code",
   "execution_count": 903,
   "metadata": {},
   "outputs": [],
   "source": [
    "def k_convergence(new, old):\n",
    "    # convergence criteria\n",
    "    ek = 1e-5\n",
    "    if np.amax(abs((new - old) / new)) < ek:\n",
    "        return True\n",
    "    else:\n",
    "        return False"
   ]
  },
  {
   "cell_type": "code",
   "execution_count": 904,
   "metadata": {},
   "outputs": [],
   "source": [
    "def si_convergence(new, old):\n",
    "    # convergence criteria\n",
    "    esi = 1e-6\n",
    "    if np.amax(abs(new - old) / new) < esi:\n",
    "        return True\n",
    "    else:\n",
    "        return False"
   ]
  },
  {
   "cell_type": "code",
   "execution_count": 905,
   "metadata": {},
   "outputs": [],
   "source": [
    "def get_surface(p, bin_id):\n",
    "    if p.mu > 0:\n",
    "        return bin_id+1\n",
    "    else:\n",
    "        return bin_id"
   ]
  },
  {
   "cell_type": "code",
   "execution_count": 906,
   "metadata": {},
   "outputs": [],
   "source": [
    "def get_material(p, cells):\n",
    "    for i in range(len(cells)):\n",
    "        right = cells[i].right\n",
    "        left = cells[i].left\n",
    "        if p.x >= left and p.x < right:\n",
    "            return cells[i].material"
   ]
  },
  {
   "cell_type": "code",
   "execution_count": 907,
   "metadata": {},
   "outputs": [],
   "source": [
    "def calculate_fission_source():\n",
    "    # get values\n",
    "    flux = tally1.scalar_flux\n",
    "    source = np.zeros(mesh1.Nx-1)\n",
    "    dx = mesh1.dx\n",
    "    index = 0\n",
    "    \n",
    "    # loop through all cells\n",
    "    for i in range(len(cells)):\n",
    "        # get cell and material data\n",
    "        left = cells[i].left\n",
    "        right = cells[i].right\n",
    "        material = cells[i].material\n",
    "        nuSigmaF = material.nuSigmaF\n",
    "        bins = int((right - left) / dx)\n",
    "        \n",
    "        # calculate source for current cell\n",
    "        for j in range(bins):\n",
    "            j += index\n",
    "            source[j] = nuSigmaF[0]*flux[j,0] + nuSigmaF[1]*flux[j,1]\n",
    "            \n",
    "        index = j+1\n",
    "        \n",
    "    return source"
   ]
  },
  {
   "cell_type": "code",
   "execution_count": 908,
   "metadata": {},
   "outputs": [],
   "source": [
    "def calculate_k(fission_new, fission_old):\n",
    "    dx = mesh1.dx\n",
    "    k_new = tally1.k * np.sum(dx*fission_new)/np.sum(dx*fission_old)\n",
    "    return k_new"
   ]
  },
  {
   "cell_type": "code",
   "execution_count": 909,
   "metadata": {},
   "outputs": [],
   "source": [
    "def calculate_source_S(g):\n",
    "    # only has fission source in fast group\n",
    "    if g == 0: \n",
    "        Sg = 1/tally1.k * source1.fission\n",
    "    else:\n",
    "        Sg = np.zeros_like(source1.fission)\n",
    "\n",
    "    # get other values\n",
    "    if g == 0:\n",
    "        g_prime = 1\n",
    "    else:\n",
    "        g_prime = 0\n",
    "    scalar_flux = tally1.scalar_flux[:,g_prime]\n",
    "    dx = mesh1.dx\n",
    "    index = 0\n",
    "    \n",
    "    # loop through all cells\n",
    "    for i in range(len(cells)):\n",
    "        # get cell and material data\n",
    "        left = cells[i].left\n",
    "        right = cells[i].right\n",
    "        material = cells[i].material\n",
    "        SigmaS = material.SigmaS\n",
    "        bins = int((right - left) / dx)\n",
    "        \n",
    "        # calculate source for current cell\n",
    "        for j in range(bins):\n",
    "            j += index\n",
    "            Sg[j] += SigmaS[g_prime, g] * scalar_flux[j]\n",
    "        index = j+1\n",
    "\n",
    "    return Sg"
   ]
  },
  {
   "cell_type": "code",
   "execution_count": 910,
   "metadata": {},
   "outputs": [],
   "source": [
    "def calculate_source_Q(Sg, g):\n",
    "    # get values\n",
    "    Qg = Sg.copy()\n",
    "    scalar_flux = tally1.scalar_flux[:,g]\n",
    "    dx = mesh1.dx\n",
    "    index = 0\n",
    "\n",
    "    # loop through all cells\n",
    "    for i in range(len(cells)):\n",
    "        # get cell and material data\n",
    "        left = cells[i].left\n",
    "        right = cells[i].right\n",
    "        material = cells[i].material\n",
    "        SigmaS = material.SigmaS\n",
    "        bins = int((right - left) / dx)\n",
    "        \n",
    "        # calculate source for current cell\n",
    "        for j in range(bins):\n",
    "            j += index\n",
    "            Qg[j] += SigmaS[g, g] * scalar_flux[j]\n",
    "        index = j+1\n",
    "        \n",
    "\n",
    "    return Qg"
   ]
  },
  {
   "cell_type": "code",
   "execution_count": 911,
   "metadata": {},
   "outputs": [],
   "source": [
    "def outgoing_flux(Q, SigmaT, dx, u, angular_flux_inc):\n",
    "    tau = SigmaT * dx / abs(u)\n",
    "    edge_flux = angular_flux_inc * np.exp(-tau) + Q/SigmaT * (1 - np.exp(-tau))\n",
    "    return edge_flux"
   ]
  },
  {
   "cell_type": "code",
   "execution_count": 912,
   "metadata": {},
   "outputs": [],
   "source": [
    "def cell_average_flux(Q, SigmaT, dx, u, angular_flux_inc, angular_flux_exit):\n",
    "    cell_flux = Q/SigmaT - (u * (angular_flux_exit - angular_flux_inc) / (dx * SigmaT))\n",
    "    return cell_flux"
   ]
  },
  {
   "cell_type": "code",
   "execution_count": 913,
   "metadata": {},
   "outputs": [],
   "source": [
    "def sweep(bc_incoming, Q, n, g):\n",
    "    u = mesh1.U[n]\n",
    "    w = mesh1.W[n]\n",
    "    angular_flux_inc = bc_incoming\n",
    "\n",
    "    # sweep right\n",
    "    if u > 0:\n",
    "        index = 0\n",
    "        tally1.current[0, g] += w * u * angular_flux_inc\n",
    "        # loop through all cells\n",
    "        for i in range(len(cells)):\n",
    "            # get cell and material data\n",
    "            dx = mesh1.dx\n",
    "            left = cells[i].left\n",
    "            right = cells[i].right\n",
    "            material = cells[i].material\n",
    "            SigmaT = material.SigmaT[g]\n",
    "            bins = int((right - left) / dx)\n",
    "\n",
    "            # calculate source for current cell\n",
    "            for j in range(bins):\n",
    "                j += index\n",
    "                # compute cell edge and cell average fluxes, save outgoing flux for next cell\n",
    "                angular_flux_exit = outgoing_flux(Q[j], SigmaT, dx, u, angular_flux_inc)\n",
    "                cell_average = cell_average_flux(Q[j], SigmaT, dx, u, angular_flux_inc, angular_flux_exit)\n",
    "                angular_flux_inc = angular_flux_exit\n",
    "\n",
    "                # tally flux and current\n",
    "                tally1.scalar_flux[j, g] += w * cell_average\n",
    "                tally1.current[j + 1, g] += w * u * angular_flux_exit\n",
    "\n",
    "            index = j+1\n",
    "    \n",
    "    # sweep left\n",
    "    if u < 0:\n",
    "        index = mesh1.Nx - 2\n",
    "        tally1.current[index, g] += w * u * angular_flux_inc\n",
    "        # loop through all cells\n",
    "        for i in range(len(cells)-1,-1,-1):\n",
    "            # get cell and material data\n",
    "            dx = mesh1.dx\n",
    "            left = cells[i].left\n",
    "            right = cells[i].right\n",
    "            material = cells[i].material\n",
    "            SigmaT = material.SigmaT[g]\n",
    "            bins = int((right - left) / dx)\n",
    "\n",
    "            # calculate source for current cell\n",
    "            for j in range(bins):\n",
    "                j = index - j\n",
    "\n",
    "                # compute cell edge and cell average fluxes, save outgoing flux for next cell\n",
    "                angular_flux_exit = outgoing_flux(Q[j], SigmaT, dx, u, angular_flux_inc)\n",
    "                cell_average = cell_average_flux(Q[j], SigmaT, dx, u, angular_flux_inc, angular_flux_exit)\n",
    "                angular_flux_inc = angular_flux_exit \n",
    "\n",
    "                # tally flux and current\n",
    "                tally1.scalar_flux[j, g] += w * cell_average\n",
    "                tally1.current[j - 1, g] += w * u * angular_flux_exit\n",
    "\n",
    "            index -= j-1\n",
    "\n",
    "    return angular_flux_exit"
   ]
  },
  {
   "attachments": {},
   "cell_type": "markdown",
   "metadata": {},
   "source": [
    "Main loops"
   ]
  },
  {
   "cell_type": "code",
   "execution_count": 914,
   "metadata": {},
   "outputs": [],
   "source": [
    "def source_iteration():\n",
    "    iter = 100\n",
    "    scalar_flux_old = np.zeros_like(mesh1.mesh_flux)\n",
    "    G = np.size(tally1.scalar_flux, axis=1)\n",
    "\n",
    "    for g in range(G):\n",
    "        Sg = calculate_source_S(g)\n",
    "        #print(\"SG: \", Sg)\n",
    "\n",
    "        for i in range(iter):\n",
    "            Qg = calculate_source_Q(Sg, g)\n",
    "            #print(\"Q: \", Qg)\n",
    "            tally1.zero_g(g)\n",
    "\n",
    "            # sweep all angles\n",
    "            for n in range(len(mesh1.U)):\n",
    "                bc_in = np.flip(range(len(mesh1.U)))[n]\n",
    "                bc1.bc[g, n] = sweep(bc1.bc[g, bc_in], Qg, n, g)\n",
    "            \n",
    "            # check convergence\n",
    "            if si_convergence(tally1.scalar_flux[:,g], scalar_flux_old):\n",
    "                break\n",
    "\n",
    "            scalar_flux_old = tally1.scalar_flux[:,g].copy()\n",
    "            #print(\"flux: \", tally1.scalar_flux)"
   ]
  },
  {
   "cell_type": "code",
   "execution_count": 915,
   "metadata": {},
   "outputs": [],
   "source": [
    "def power_iteration():\n",
    "    iter = 100\n",
    "    k_old = 1\n",
    "    f_old = np.ones_like(source1.fission)\n",
    "    for i in range(iter):\n",
    "        source_iteration()\n",
    "\n",
    "        source1.fission = calculate_fission_source()\n",
    "        tally1.k = calculate_k(source1.fission, f_old)\n",
    "\n",
    "        if f_convergence(source1.fission, f_old) and k_convergence(tally1.k, k_old):\n",
    "            break\n",
    "        \n",
    "        f_old = source1.fission.copy()\n",
    "        k_old = tally1.k.copy()\n",
    "        \n",
    "        print(\"power\", i)\n"
   ]
  },
  {
   "cell_type": "code",
   "execution_count": 920,
   "metadata": {},
   "outputs": [],
   "source": [
    "def main_loop():\n",
    "    power_iteration()\n",
    "    print(tally1.scalar_flux)\n",
    "    print(tally1.current)"
   ]
  },
  {
   "attachments": {},
   "cell_type": "markdown",
   "metadata": {},
   "source": [
    "Test"
   ]
  },
  {
   "cell_type": "code",
   "execution_count": 921,
   "metadata": {},
   "outputs": [],
   "source": [
    "# materials\n",
    "mox = material(np.array([0.0,0.0]), \n",
    "              np.array([[0.2,0.2],[0.0,0.2]]), \n",
    "              np.array([1.0,1.0]))\n",
    "# cells\n",
    "cells = [cell(0, 10, mox)]\n",
    "\n",
    "# gauss-legendre\n",
    "U, W = leg.leggauss(2)\n",
    "\n",
    "# mesh\n",
    "mesh1 = mesh(20 + 1, 10, \"reflective\", U, W)\n",
    "\n",
    "# initialize tally\n",
    "tally1 = tally(np.zeros((mesh1.Nx-1, 2)), \n",
    "            np.zeros((mesh1.Nx, 2)),\n",
    "            1)\n",
    "\n",
    "# initialize source\n",
    "source1 = source(np.zeros_like(mesh1.mesh_flux), \n",
    "                np.ones_like(mesh1.mesh_flux))\n",
    "\n",
    "# initialize bc\n",
    "bc1 = bc(np.zeros((2, len(mesh1.U))))"
   ]
  },
  {
   "cell_type": "code",
   "execution_count": 922,
   "metadata": {},
   "outputs": [
    {
     "name": "stdout",
     "output_type": "stream",
     "text": [
      "[[3.33333276 2.22222146]\n",
      " [3.33333276 2.22222146]\n",
      " [3.33333276 2.22222146]\n",
      " [3.33333276 2.22222146]\n",
      " [3.33333276 2.22222146]\n",
      " [3.33333276 2.22222146]\n",
      " [3.33333276 2.22222146]\n",
      " [3.33333276 2.22222146]\n",
      " [3.33333275 2.22222145]\n",
      " [3.33333275 2.22222144]\n",
      " [3.33333275 2.22222144]\n",
      " [3.33333278 2.22222145]\n",
      " [3.33333283 2.22222153]\n",
      " [3.33333288 2.22222165]\n",
      " [3.3333328  2.22222163]\n",
      " [3.33333244 2.22222114]\n",
      " [3.33333226 2.22222062]\n",
      " [3.33333352 2.22222238]\n",
      " [3.33333223 2.2222207 ]\n",
      " [3.33333336 2.2222221 ]]\n",
      "[[-3.22331051e-12 -7.96362976e-12]\n",
      " [-1.98785433e-12 -2.02068362e-11]\n",
      " [ 2.22057928e-11 -1.55884194e-11]\n",
      " [ 8.92101948e-11  3.69316799e-11]\n",
      " [ 2.19527396e-10  1.92556748e-10]\n",
      " [ 3.97349265e-10  5.07782483e-10]\n",
      " [ 4.83049600e-10  9.38821354e-10]\n",
      " [ 7.84399212e-11  1.10086762e-09]\n",
      " [-1.53519575e-09 -7.08150205e-11]\n",
      " [-4.99879771e-09 -4.31576319e-09]\n",
      " [-9.33610211e-09 -1.24529491e-08]\n",
      " [-9.06397124e-09 -1.95411294e-08]\n",
      " [ 7.08873582e-09 -8.51368587e-09]\n",
      " [ 4.57991728e-08  4.31179762e-08]\n",
      " [ 7.58925165e-08  1.13444231e-07]\n",
      " [ 6.79973877e-09  6.36005277e-08]\n",
      " [-1.61286438e-07 -1.93187064e-07]\n",
      " [-1.71657769e-08 -5.51976769e-08]\n",
      " [ 1.90344318e-08 -1.31088842e-08]\n",
      " [ 4.45608994e-10 -8.08710104e-08]\n",
      " [ 7.88335418e-08  9.10850448e-08]]\n"
     ]
    }
   ],
   "source": [
    "main_loop()"
   ]
  },
  {
   "attachments": {},
   "cell_type": "markdown",
   "metadata": {},
   "source": [
    "Problem A"
   ]
  },
  {
   "cell_type": "code",
   "execution_count": 919,
   "metadata": {},
   "outputs": [],
   "source": [
    "# materials\n",
    "mox = material(np.array([0,1.05]), \n",
    "              np.array([[0.25,0],[0,0]]), \n",
    "              np.array([0.25,0.75]))\n",
    "\n",
    "u = material(np.array([0,0.40]), \n",
    "              np.array([[0.25,0],[0,0]]), \n",
    "              np.array([0.25,0.25]))\n",
    "\n",
    "water = material(np.array([0,0]), \n",
    "              np.array([[0.20,0.05],[0,1.25]]), \n",
    "              np.array([0.25,1.25]))\n",
    "# cells\n",
    "cells = []\n",
    "\n",
    "for i in range(8):\n",
    "    i *= 1.25\n",
    "    cells.extend([cell(i+0, i+.3125, water), cell(i+.3125, i+.9375, mox), cell(i+.9375, i+1.25, water)])\n",
    "\n",
    "for i in range(8, 16):\n",
    "    i *= 1.25\n",
    "    cells.extend([cell(i+0, i+.3125, water), cell(i+.3125, i+.9375, u), cell(i+.9375, i+1.25, water)])\n",
    "\n",
    "# gauss-legendre\n",
    "U, W = leg.leggauss(10)\n",
    "\n",
    "# mesh\n",
    "mesh1 = mesh(128 + 1, 20, \"reflective\", U, W)\n",
    "\n",
    "# tally\n",
    "tally1 = tally(np.zeros((mesh1.Nx-1, 2)), \n",
    "               np.zeros((mesh1.Nx, 2)),\n",
    "               1)"
   ]
  }
 ],
 "metadata": {
  "kernelspec": {
   "display_name": "Python 3",
   "language": "python",
   "name": "python3"
  },
  "language_info": {
   "codemirror_mode": {
    "name": "ipython",
    "version": 3
   },
   "file_extension": ".py",
   "mimetype": "text/x-python",
   "name": "python",
   "nbconvert_exporter": "python",
   "pygments_lexer": "ipython3",
   "version": "3.9.5"
  },
  "orig_nbformat": 4
 },
 "nbformat": 4,
 "nbformat_minor": 2
}
