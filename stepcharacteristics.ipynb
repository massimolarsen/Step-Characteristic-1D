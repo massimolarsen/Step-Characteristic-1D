{
 "cells": [
  {
   "cell_type": "code",
   "execution_count": 863,
   "metadata": {},
   "outputs": [],
   "source": [
    "import numpy as np\n",
    "import matplotlib.pyplot as plt\n",
    "import numpy.polynomial.legendre as leg"
   ]
  },
  {
   "attachments": {},
   "cell_type": "markdown",
   "metadata": {},
   "source": [
    "Set up classes"
   ]
  },
  {
   "cell_type": "code",
   "execution_count": 864,
   "metadata": {},
   "outputs": [],
   "source": [
    "class particle:\n",
    "     def __init__(self, alive, mu, x, g, w):\n",
    "        self.alive = alive\n",
    "        self.mu = mu\n",
    "        self.x = x\n",
    "        self.g = g\n",
    "        self.w = w"
   ]
  },
  {
   "cell_type": "code",
   "execution_count": 865,
   "metadata": {},
   "outputs": [],
   "source": [
    "class source:\n",
    "    def __init__(self, scatter, fission):\n",
    "        self.scatter = scatter\n",
    "        self.fission = fission"
   ]
  },
  {
   "cell_type": "code",
   "execution_count": 866,
   "metadata": {},
   "outputs": [],
   "source": [
    "class tally:\n",
    "    def __init__(self, scalar_flux, current, k):\n",
    "        self.scalar_flux = scalar_flux\n",
    "        self.current = current\n",
    "        self.k = k\n",
    "    \n",
    "    def zero(self):\n",
    "        self.scalar_flux *= 0\n",
    "        self.current *= 0"
   ]
  },
  {
   "cell_type": "code",
   "execution_count": 867,
   "metadata": {},
   "outputs": [],
   "source": [
    "class material:\n",
    "    def __init__(self, nuSigmaF, SigmaS, SigmaT):\n",
    "        self.nuSigmaF = nuSigmaF\n",
    "        self.SigmaS = SigmaS\n",
    "        self.SigmaT = SigmaT"
   ]
  },
  {
   "cell_type": "code",
   "execution_count": 868,
   "metadata": {},
   "outputs": [],
   "source": [
    "class cell:\n",
    "    def __init__(self, left, right, material):\n",
    "        self.left = left\n",
    "        self.right = right\n",
    "        self.material = material"
   ]
  },
  {
   "cell_type": "code",
   "execution_count": 869,
   "metadata": {},
   "outputs": [],
   "source": [
    "class mesh:\n",
    "    def __init__(self, Nx, L, bc, U, W):\n",
    "        self.Nx = Nx\n",
    "        self.L = L\n",
    "        self.dx = L/(Nx-1)\n",
    "        self.mesh_x = np.linspace(0, L, Nx)\n",
    "        self.mesh_flux = np.linspace(0, L, Nx-1)\n",
    "        self.bc = bc\n",
    "        self.U = U\n",
    "        self.W = W"
   ]
  },
  {
   "cell_type": "code",
   "execution_count": 870,
   "metadata": {},
   "outputs": [],
   "source": [
    "class bc:\n",
    "    def __init__(self, bc):\n",
    "        self.bc = bc"
   ]
  },
  {
   "attachments": {},
   "cell_type": "markdown",
   "metadata": {},
   "source": [
    "Set up functions"
   ]
  },
  {
   "cell_type": "code",
   "execution_count": 871,
   "metadata": {},
   "outputs": [],
   "source": [
    "def zero_tally(tally):\n",
    "    tally.scalar_flux = np.zeros_like(tally.scalar_flux)\n",
    "    tally.current = np.zeros_like(tally.current)"
   ]
  },
  {
   "cell_type": "code",
   "execution_count": 872,
   "metadata": {},
   "outputs": [],
   "source": [
    "def f_convergence(new, old):\n",
    "    # convergence criteria\n",
    "    epi = 1e-5\n",
    "    if np.amax(abs(new - old)) < epi:\n",
    "        return True\n",
    "    else:\n",
    "        return False"
   ]
  },
  {
   "cell_type": "code",
   "execution_count": 873,
   "metadata": {},
   "outputs": [],
   "source": [
    "def k_convergence(new, old):\n",
    "    # convergence criteria\n",
    "    ek = 1e-5\n",
    "    if np.amax(abs((new - old) / new)) < ek:\n",
    "        return True\n",
    "    else:\n",
    "        return False"
   ]
  },
  {
   "cell_type": "code",
   "execution_count": 874,
   "metadata": {},
   "outputs": [],
   "source": [
    "def si_convergence(new, old):\n",
    "    # convergence criteria\n",
    "    esi = 1e-6\n",
    "    if np.amax(abs(new - old) / new) < esi:\n",
    "        return True\n",
    "    else:\n",
    "        return False"
   ]
  },
  {
   "cell_type": "code",
   "execution_count": 875,
   "metadata": {},
   "outputs": [],
   "source": [
    "def get_surface(p, bin_id):\n",
    "    if p.mu > 0:\n",
    "        return bin_id+1\n",
    "    else:\n",
    "        return bin_id"
   ]
  },
  {
   "cell_type": "code",
   "execution_count": 876,
   "metadata": {},
   "outputs": [],
   "source": [
    "def get_material(p, cells):\n",
    "    for i in range(len(cells)):\n",
    "        right = cells[i].right\n",
    "        left = cells[i].left\n",
    "        if p.x >= left and p.x < right:\n",
    "            return cells[i].material"
   ]
  },
  {
   "cell_type": "code",
   "execution_count": 877,
   "metadata": {},
   "outputs": [],
   "source": [
    "def calculate_fission_source():\n",
    "    # get values\n",
    "    flux = tally1.scalar_flux\n",
    "    source = np.zeros(mesh1.Nx-1)\n",
    "    dx = mesh1.dx\n",
    "    index = 0\n",
    "    \n",
    "    # loop through all cells\n",
    "    for i in range(len(cells)):\n",
    "        # get cell and material data\n",
    "        left = cells[i].left\n",
    "        right = cells[i].right\n",
    "        material = cells[i].material\n",
    "        nuSigmaF = material.nuSigmaF\n",
    "        bins = int((right - left) / dx)\n",
    "        \n",
    "        # calculate source for current cell\n",
    "        for j in range(bins):\n",
    "            j += index\n",
    "            source[j] = nuSigmaF[0]*flux[j,0] + nuSigmaF[1]*flux[j,1]\n",
    "            \n",
    "        index = j+1\n",
    "        \n",
    "    return source"
   ]
  },
  {
   "cell_type": "code",
   "execution_count": 878,
   "metadata": {},
   "outputs": [],
   "source": [
    "def calculate_k(old):\n",
    "    dx = mesh1.dx\n",
    "    k_new = tally1.k * np.sum(dx*source1.fission)/np.sum(dx*old)\n",
    "    return k_new"
   ]
  },
  {
   "cell_type": "code",
   "execution_count": 879,
   "metadata": {},
   "outputs": [],
   "source": [
    "def calculate_source_S(g):\n",
    "    # get values\n",
    "    Sg = 1/tally1.k * source1.fission\n",
    "    scalar_flux = tally1.scalar_flux[:,g]\n",
    "    dx = mesh1.dx\n",
    "    index = 0\n",
    "    if g == 0:\n",
    "        g_prime = 1\n",
    "    else:\n",
    "        g_prime = 0\n",
    "    \n",
    "    # loop through all cells\n",
    "    for i in range(len(cells)):\n",
    "        # get cell and material data\n",
    "        left = cells[i].left\n",
    "        right = cells[i].right\n",
    "        material = cells[i].material\n",
    "        SigmaS = material.SigmaS\n",
    "        bins = int((right - left) / dx)\n",
    "        \n",
    "        # calculate source for current cell\n",
    "        for j in range(bins):\n",
    "            j += index\n",
    "            Sg[j] += SigmaS[g, g_prime] * scalar_flux[j]\n",
    "        index = j+1\n",
    "\n",
    "    return Sg"
   ]
  },
  {
   "cell_type": "code",
   "execution_count": 880,
   "metadata": {},
   "outputs": [],
   "source": [
    "def calculate_source_Q(S, g):\n",
    "    # get values\n",
    "    Q = S.copy()\n",
    "    scalar_flux = tally1.scalar_flux[:,g]\n",
    "    dx = mesh1.dx\n",
    "    index = 0\n",
    "\n",
    "    # loop through all cells\n",
    "    for i in range(len(cells)):\n",
    "        # get cell and material data\n",
    "        left = cells[i].left\n",
    "        right = cells[i].right\n",
    "        material = cells[i].material\n",
    "        SigmaS = material.SigmaS\n",
    "        bins = int((right - left) / dx)\n",
    "        \n",
    "        # calculate source for current cell\n",
    "        for j in range(bins):\n",
    "            j += index\n",
    "            Q[j] += SigmaS[g, g] * scalar_flux[j]\n",
    "        index = j+1\n",
    "\n",
    "    return Q "
   ]
  },
  {
   "cell_type": "code",
   "execution_count": 881,
   "metadata": {},
   "outputs": [],
   "source": [
    "def cell_flux(Q, SigmaT, dx, u, psi):\n",
    "    tau = SigmaT * dx / abs(u)\n",
    "    cell_flux = psi * np.exp(-tau) + Q/SigmaT * (1 - np.exp(-tau))\n",
    "    return cell_flux"
   ]
  },
  {
   "cell_type": "code",
   "execution_count": 882,
   "metadata": {},
   "outputs": [],
   "source": [
    "def sweep(bc_incoming, Q, n, g):\n",
    "    u = mesh1.U[n]\n",
    "    w = mesh1.W[n]\n",
    "    angular_flux_old = bc_incoming\n",
    "\n",
    "    # sweep right\n",
    "    if u > 0:\n",
    "        index = 0\n",
    "        # loop through all cells\n",
    "        for i in range(len(cells)):\n",
    "            # get cell and material data\n",
    "            dx = mesh1.dx\n",
    "            left = cells[i].left\n",
    "            right = cells[i].right\n",
    "            material = cells[i].material\n",
    "            SigmaT = material.SigmaT[g]\n",
    "            bins = int((right - left) / dx)\n",
    "\n",
    "            # calculate source for current cell\n",
    "            for j in range(bins):\n",
    "                j += index\n",
    "                # compute angular flux\n",
    "                angular_flux_new = cell_flux(Q[j], SigmaT, dx, u, angular_flux_old)\n",
    "                angular_flux_old = angular_flux_new\n",
    "\n",
    "                # tally flux and current\n",
    "                tally1.scalar_flux[j] += w * angular_flux_new\n",
    "                tally1.current[j] += w * u * angular_flux_new\n",
    "\n",
    "            index = j+1\n",
    "    \n",
    "    # sweep left\n",
    "    if u < 0:\n",
    "        index = mesh1.Nx - 2\n",
    "\n",
    "        # loop through all cells\n",
    "        for i in range(len(cells)-1,-1,-1):\n",
    "            # get cell and material data\n",
    "            dx = mesh1.dx\n",
    "            left = cells[i].left\n",
    "            right = cells[i].right\n",
    "            material = cells[i].material\n",
    "            SigmaT = material.SigmaT[g]\n",
    "            bins = int((right - left) / dx)\n",
    "\n",
    "            # calculate source for current cell\n",
    "            for j in range(bins):\n",
    "                j = index - j\n",
    "\n",
    "                # compute angular flux sweep left\n",
    "                angular_flux_new = cell_flux(Q[j], SigmaT, dx, u, angular_flux_old)\n",
    "                angular_flux_old = angular_flux_new \n",
    "\n",
    "                # tally flux and current\n",
    "                tally1.scalar_flux[j] += w * angular_flux_new\n",
    "                tally1.current[j] += w * u * angular_flux_new\n",
    "\n",
    "            index -= j-1\n",
    "\n",
    "    return angular_flux_new"
   ]
  },
  {
   "attachments": {},
   "cell_type": "markdown",
   "metadata": {},
   "source": [
    "Main loops"
   ]
  },
  {
   "cell_type": "code",
   "execution_count": 883,
   "metadata": {},
   "outputs": [],
   "source": [
    "def source_iteration():\n",
    "    iter = 100\n",
    "    scalar_flux_old = np.zeros_like(tally1.scalar_flux)\n",
    "    G = np.size(tally1.scalar_flux, axis=1)\n",
    "\n",
    "    for g in range(G):\n",
    "        S = calculate_source_S(g)\n",
    "\n",
    "        for i in range(iter):\n",
    "            Q = calculate_source_Q(S, g)\n",
    "            tally1.zero()\n",
    "\n",
    "            # sweep all angles\n",
    "            for n in range(len(mesh1.U)):\n",
    "                bc_in = np.flip(range(len(mesh1.U)))[n]\n",
    "                bc1.bc[g, n] = sweep(bc1.bc[g, bc_in], Q, n, g)\n",
    "            \n",
    "            # check convergence\n",
    "            if si_convergence(tally1.scalar_flux, scalar_flux_old):\n",
    "                break\n",
    "\n",
    "            scalar_flux_old = tally1.scalar_flux.copy()\n",
    "            #print(\"source\", i)"
   ]
  },
  {
   "cell_type": "code",
   "execution_count": 884,
   "metadata": {},
   "outputs": [],
   "source": [
    "def power_iteration():\n",
    "    iter = 100\n",
    "    k_old = 1\n",
    "    f_old = np.ones_like(source1.fission)\n",
    "    for i in range(iter):\n",
    "        source_iteration()\n",
    "\n",
    "        source1.fission = calculate_fission_source()\n",
    "        tally1.k = calculate_k(k_old)\n",
    "\n",
    "        if f_convergence(source1.fission, f_old) and k_convergence(tally1.k, k_old):\n",
    "            break\n",
    "\n",
    "        k_old = tally1.k.copy()\n",
    "        f_old = source1.fission.copy()\n",
    "        #print(\"power\", i)\n"
   ]
  },
  {
   "cell_type": "code",
   "execution_count": 885,
   "metadata": {},
   "outputs": [],
   "source": [
    "def main_loop():\n",
    "    power_iteration()\n",
    "    print(tally1.scalar_flux, tally1.k)"
   ]
  },
  {
   "attachments": {},
   "cell_type": "markdown",
   "metadata": {},
   "source": [
    "Test"
   ]
  },
  {
   "cell_type": "code",
   "execution_count": 886,
   "metadata": {},
   "outputs": [],
   "source": [
    "# materials\n",
    "mox = material(np.array([0,1.05]), \n",
    "              np.array([[0.25,0],[0,0]]), \n",
    "              np.array([0.25,0.75]))\n",
    "# cells\n",
    "cells = [cell(0, 10, mox)]\n",
    "\n",
    "# gauss-legendre\n",
    "U, W = leg.leggauss(2)\n",
    "\n",
    "# mesh\n",
    "mesh1 = mesh(10 + 1, 10, \"reflective\", U, W)\n",
    "\n",
    "# initialize tally\n",
    "tally1 = tally(np.zeros((mesh1.Nx-1, 2)), \n",
    "            np.zeros((mesh1.Nx, 2)),\n",
    "            1)\n",
    "\n",
    "# initialize source\n",
    "source1 = source(np.zeros_like(mesh1.mesh_flux), \n",
    "                np.ones_like(mesh1.mesh_flux))\n",
    "\n",
    "# initialize bc\n",
    "bc1 = bc(np.zeros((2, len(mesh1.U))))"
   ]
  },
  {
   "cell_type": "code",
   "execution_count": 887,
   "metadata": {},
   "outputs": [
    {
     "name": "stdout",
     "output_type": "stream",
     "text": [
      "[[0.26666667 0.26666667]\n",
      " [0.26666667 0.26666667]\n",
      " [0.26666667 0.26666667]\n",
      " [0.26666667 0.26666667]\n",
      " [0.26666667 0.26666667]\n",
      " [0.26666667 0.26666667]\n",
      " [0.26666667 0.26666667]\n",
      " [0.26666667 0.26666667]\n",
      " [0.26666667 0.26666667]\n",
      " [0.26666667 0.26666667]] 2.800000000000001\n"
     ]
    }
   ],
   "source": [
    "main_loop()"
   ]
  },
  {
   "attachments": {},
   "cell_type": "markdown",
   "metadata": {},
   "source": [
    "Problem A"
   ]
  },
  {
   "cell_type": "code",
   "execution_count": 888,
   "metadata": {},
   "outputs": [],
   "source": [
    "# materials\n",
    "mox = material(np.array([0,1.05]), \n",
    "              np.array([[0.25,0],[0,0]]), \n",
    "              np.array([0.25,0.75]))\n",
    "\n",
    "u = material(np.array([0,0.40]), \n",
    "              np.array([[0.25,0],[0,0]]), \n",
    "              np.array([0.25,0.25]))\n",
    "\n",
    "water = material(np.array([0,0]), \n",
    "              np.array([[0.20,0.05],[0,1.25]]), \n",
    "              np.array([0.25,1.25]))\n",
    "# cells\n",
    "cells = []\n",
    "\n",
    "for i in range(8):\n",
    "    i *= 1.25\n",
    "    cells.extend([cell(i+0, i+.3125, water), cell(i+.3125, i+.9375, mox), cell(i+.9375, i+1.25, water)])\n",
    "\n",
    "for i in range(8, 16):\n",
    "    i *= 1.25\n",
    "    cells.extend([cell(i+0, i+.3125, water), cell(i+.3125, i+.9375, u), cell(i+.9375, i+1.25, water)])\n",
    "\n",
    "# gauss-legendre\n",
    "U, W = leg.leggauss(10)\n",
    "\n",
    "# mesh\n",
    "mesh1 = mesh(128 + 1, 20, \"reflective\", U, W)\n",
    "\n",
    "# tally\n",
    "tally1 = tally(np.zeros((mesh1.Nx-1, 2)), \n",
    "               np.zeros((mesh1.Nx, 2)),\n",
    "               1)"
   ]
  }
 ],
 "metadata": {
  "kernelspec": {
   "display_name": "Python 3",
   "language": "python",
   "name": "python3"
  },
  "language_info": {
   "codemirror_mode": {
    "name": "ipython",
    "version": 3
   },
   "file_extension": ".py",
   "mimetype": "text/x-python",
   "name": "python",
   "nbconvert_exporter": "python",
   "pygments_lexer": "ipython3",
   "version": "3.9.5"
  },
  "orig_nbformat": 4
 },
 "nbformat": 4,
 "nbformat_minor": 2
}
