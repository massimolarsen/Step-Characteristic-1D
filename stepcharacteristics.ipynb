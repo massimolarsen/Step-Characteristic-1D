{
 "cells": [
  {
   "cell_type": "code",
   "execution_count": 2059,
   "metadata": {},
   "outputs": [],
   "source": [
    "import numpy as np\n",
    "import matplotlib.pyplot as plt\n",
    "import numpy.polynomial.legendre as leg"
   ]
  },
  {
   "attachments": {},
   "cell_type": "markdown",
   "metadata": {},
   "source": [
    "Set up classes"
   ]
  },
  {
   "cell_type": "code",
   "execution_count": 2060,
   "metadata": {},
   "outputs": [],
   "source": [
    "class particle:\n",
    "     def __init__(self, alive, mu, x, g, w):\n",
    "        self.alive = alive\n",
    "        self.mu = mu\n",
    "        self.x = x\n",
    "        self.g = g\n",
    "        self.w = w"
   ]
  },
  {
   "cell_type": "code",
   "execution_count": 2061,
   "metadata": {},
   "outputs": [],
   "source": [
    "class source:\n",
    "    def __init__(self, scatter, fission):\n",
    "        self.scatter = scatter\n",
    "        self.fission = fission"
   ]
  },
  {
   "cell_type": "code",
   "execution_count": 2062,
   "metadata": {},
   "outputs": [],
   "source": [
    "class tally:\n",
    "    def __init__(self, scalar_flux, current, k):\n",
    "        self.scalar_flux = scalar_flux\n",
    "        self.current = current\n",
    "        self.k = k\n",
    "    \n",
    "    def zero_g(self, g):\n",
    "        self.scalar_flux[:, g] *= 0\n",
    "        self.current[:, g] *= 0\n",
    "\n",
    "    def zero(self):\n",
    "        self.scalar_flux *= 0\n",
    "        self.current *= 0"
   ]
  },
  {
   "cell_type": "code",
   "execution_count": 2063,
   "metadata": {},
   "outputs": [],
   "source": [
    "class material:\n",
    "    def __init__(self, nuSigmaF, SigmaS, SigmaT):\n",
    "        self.nuSigmaF = nuSigmaF\n",
    "        self.SigmaS = SigmaS\n",
    "        self.SigmaT = SigmaT"
   ]
  },
  {
   "cell_type": "code",
   "execution_count": 2064,
   "metadata": {},
   "outputs": [],
   "source": [
    "class cell:\n",
    "    def __init__(self, left, right, material):\n",
    "        self.left = left\n",
    "        self.right = right\n",
    "        self.material = material"
   ]
  },
  {
   "cell_type": "code",
   "execution_count": 2065,
   "metadata": {},
   "outputs": [],
   "source": [
    "class mesh:\n",
    "    def __init__(self, Nx, L, bc, U, W):\n",
    "        self.Nx = Nx\n",
    "        self.L = L\n",
    "        self.dx = L/(Nx-1)\n",
    "        self.mesh_x = np.linspace(0, L, Nx)\n",
    "        self.mesh_flux = np.linspace(0, L, Nx-1)\n",
    "        self.bc = bc\n",
    "        self.U = U\n",
    "        self.W = W"
   ]
  },
  {
   "cell_type": "code",
   "execution_count": 2066,
   "metadata": {},
   "outputs": [],
   "source": [
    "class bc:\n",
    "    def __init__(self, bc):\n",
    "        self.bc = bc"
   ]
  },
  {
   "attachments": {},
   "cell_type": "markdown",
   "metadata": {},
   "source": [
    "Set up functions"
   ]
  },
  {
   "cell_type": "code",
   "execution_count": 2067,
   "metadata": {},
   "outputs": [],
   "source": [
    "def zero_tally(tally):\n",
    "    tally.scalar_flux = np.zeros_like(tally.scalar_flux)\n",
    "    tally.current = np.zeros_like(tally.current)"
   ]
  },
  {
   "cell_type": "code",
   "execution_count": 2068,
   "metadata": {},
   "outputs": [],
   "source": [
    "def f_convergence(new, old):\n",
    "    # convergence criteria\n",
    "    epi = 1e-5\n",
    "    if np.amax(abs(new - old)) < epi:\n",
    "        return True\n",
    "    else:\n",
    "        return False"
   ]
  },
  {
   "cell_type": "code",
   "execution_count": 2069,
   "metadata": {},
   "outputs": [],
   "source": [
    "def k_convergence(new, old):\n",
    "    # convergence criteria\n",
    "    ek = 1e-5\n",
    "    if np.amax(abs((new - old) / new)) < ek:\n",
    "        return True\n",
    "    else:\n",
    "        return False"
   ]
  },
  {
   "cell_type": "code",
   "execution_count": 2070,
   "metadata": {},
   "outputs": [],
   "source": [
    "def si_convergence(new, old):\n",
    "    # convergence criteria\n",
    "    esi = 1e-6\n",
    "    if np.amax(abs(new - old) / new) < esi:\n",
    "        return True\n",
    "    else:\n",
    "        return False"
   ]
  },
  {
   "cell_type": "code",
   "execution_count": 2071,
   "metadata": {},
   "outputs": [],
   "source": [
    "def get_surface(p, bin_id):\n",
    "    if p.mu > 0:\n",
    "        return bin_id+1\n",
    "    else:\n",
    "        return bin_id"
   ]
  },
  {
   "cell_type": "code",
   "execution_count": 2072,
   "metadata": {},
   "outputs": [],
   "source": [
    "def get_material(p, cells):\n",
    "    for i in range(len(cells)):\n",
    "        right = cells[i].right\n",
    "        left = cells[i].left\n",
    "        if p.x >= left and p.x < right:\n",
    "            return cells[i].material"
   ]
  },
  {
   "cell_type": "code",
   "execution_count": 2073,
   "metadata": {},
   "outputs": [],
   "source": [
    "def calculate_fission_source():\n",
    "    # get values\n",
    "    flux = tally1.scalar_flux\n",
    "    source = np.zeros(mesh1.Nx-1)\n",
    "    dx = mesh1.dx\n",
    "    index = 0\n",
    "    \n",
    "    # loop through all cells\n",
    "    for i in range(len(cells)):\n",
    "        # get cell and material data\n",
    "        left = cells[i].left\n",
    "        right = cells[i].right\n",
    "        material = cells[i].material\n",
    "        nuSigmaF = material.nuSigmaF\n",
    "        bins = int((right - left) / dx)\n",
    "        \n",
    "        # calculate source for current cell\n",
    "        for j in range(bins):\n",
    "            j += index\n",
    "            source[j] = nuSigmaF[0]*flux[j,0] + nuSigmaF[1]*flux[j,1]\n",
    "            \n",
    "        index = j+1\n",
    "        \n",
    "    return source"
   ]
  },
  {
   "cell_type": "code",
   "execution_count": 2074,
   "metadata": {},
   "outputs": [],
   "source": [
    "def calculate_k(fission_new, fission_old):\n",
    "    dx = mesh1.dx\n",
    "    k_new = tally1.k * np.sum(dx*fission_new)/np.sum(dx*fission_old)\n",
    "    return k_new"
   ]
  },
  {
   "cell_type": "code",
   "execution_count": 2075,
   "metadata": {},
   "outputs": [],
   "source": [
    "def calculate_source_S(g):\n",
    "    # only has fission source in fast group\n",
    "    if g == 0: \n",
    "        Sg = 1/tally1.k * source1.fission\n",
    "    else:\n",
    "        Sg = np.zeros_like(source1.fission)\n",
    "\n",
    "    # get other values\n",
    "    if g == 0:\n",
    "        g_prime = 1\n",
    "    else:\n",
    "        g_prime = 0\n",
    "    scalar_flux = tally1.scalar_flux[:,g_prime]\n",
    "    dx = mesh1.dx\n",
    "    index = 0\n",
    "    \n",
    "    # loop through all cells\n",
    "    for i in range(len(cells)):\n",
    "        # get cell and material data\n",
    "        left = cells[i].left\n",
    "        right = cells[i].right\n",
    "        material = cells[i].material\n",
    "        SigmaS = material.SigmaS\n",
    "        bins = int((right - left) / dx)\n",
    "        \n",
    "        # calculate source for current cell\n",
    "        for j in range(bins):\n",
    "            j += index\n",
    "            Sg[j] += SigmaS[g_prime, g] * scalar_flux[j]\n",
    "        index = j+1\n",
    "\n",
    "    return Sg"
   ]
  },
  {
   "cell_type": "code",
   "execution_count": 2076,
   "metadata": {},
   "outputs": [],
   "source": [
    "def calculate_source_Q(Sg, g):\n",
    "    # get values\n",
    "    Qg = Sg.copy()\n",
    "    scalar_flux = tally1.scalar_flux[:,g]\n",
    "    dx = mesh1.dx\n",
    "    index = 0\n",
    "\n",
    "    # loop through all cells\n",
    "    for i in range(len(cells)):\n",
    "        # get cell and material data\n",
    "        left = cells[i].left\n",
    "        right = cells[i].right\n",
    "        material = cells[i].material\n",
    "        SigmaS = material.SigmaS\n",
    "        bins = int((right - left) / dx)\n",
    "        \n",
    "        # calculate source for current cell\n",
    "        for j in range(bins):\n",
    "            j += index\n",
    "            Qg[j] += SigmaS[g, g] * scalar_flux[j]\n",
    "        index = j+1\n",
    "        \n",
    "\n",
    "    return Qg"
   ]
  },
  {
   "cell_type": "code",
   "execution_count": 2077,
   "metadata": {},
   "outputs": [],
   "source": [
    "def outgoing_flux(Q, SigmaT, dx, u, angular_flux_inc):\n",
    "    tau = SigmaT * dx / abs(u)\n",
    "    edge_flux = angular_flux_inc * np.exp(-tau) + Q/SigmaT * (1 - np.exp(-tau))\n",
    "    return edge_flux"
   ]
  },
  {
   "cell_type": "code",
   "execution_count": 2078,
   "metadata": {},
   "outputs": [],
   "source": [
    "def cell_average_flux(Q, SigmaT, dx, u, angular_flux_inc, angular_flux_exit):\n",
    "    cell_flux = Q/SigmaT - (u * (angular_flux_exit - angular_flux_inc) / (dx * SigmaT))\n",
    "    return cell_flux"
   ]
  },
  {
   "cell_type": "code",
   "execution_count": 2079,
   "metadata": {},
   "outputs": [],
   "source": [
    "def sweep(bc_incoming, Q, n, g):\n",
    "    u = mesh1.U[n]\n",
    "    w = mesh1.W[n]\n",
    "    angular_flux_inc = bc_incoming\n",
    "\n",
    "    # sweep right\n",
    "    if u > 0:\n",
    "        #print(\"right: \", angular_flux_inc)\n",
    "        index = 0\n",
    "        tally1.current[0, g] += w * u * angular_flux_inc\n",
    "        # loop through all cells\n",
    "        for i in range(len(cells)):\n",
    "            # get cell and material data\n",
    "            dx = mesh1.dx\n",
    "            left = cells[i].left\n",
    "            right = cells[i].right\n",
    "            material = cells[i].material\n",
    "            SigmaT = material.SigmaT[g]\n",
    "            bins = int((right - left) / dx)\n",
    "\n",
    "            # calculate source for current cell\n",
    "            for j in range(bins):\n",
    "                j += index\n",
    "                \n",
    "                # compute cell edge and cell average fluxes, save outgoing flux for next cell\n",
    "                angular_flux_exit = outgoing_flux(Q[j], SigmaT, dx, u, angular_flux_inc)\n",
    "                cell_average = cell_average_flux(Q[j], SigmaT, dx, u, angular_flux_inc, angular_flux_exit)\n",
    "                angular_flux_inc = angular_flux_exit\n",
    "                #print(\"right: \", cell_average)\n",
    "\n",
    "                # tally flux and current\n",
    "                tally1.scalar_flux[j, g] += w * cell_average\n",
    "                tally1.current[j + 1, g] += w * u * angular_flux_exit\n",
    "\n",
    "            index = j + 1\n",
    "    \n",
    "    # sweep left\n",
    "    if u < 0:\n",
    "        #print(\"left: \", angular_flux_inc)\n",
    "        index = mesh1.Nx - 2\n",
    "        tally1.current[index, g] += w * u * angular_flux_inc\n",
    "        # loop through all cells\n",
    "        for i in range(len(cells)-1,-1,-1):\n",
    "            # get cell and material data\n",
    "            dx = mesh1.dx\n",
    "            left = cells[i].left\n",
    "            right = cells[i].right\n",
    "            material = cells[i].material\n",
    "            SigmaT = material.SigmaT[g]\n",
    "            bins = int((right - left) / dx)\n",
    "\n",
    "            # calculate source for current cell\n",
    "            for j in range(bins):\n",
    "                j = index - j\n",
    "\n",
    "                # compute cell edge and cell average fluxes, save outgoing flux for next cell\n",
    "                angular_flux_exit = outgoing_flux(Q[j], SigmaT, dx, u, angular_flux_inc)\n",
    "                cell_average = cell_average_flux(Q[j], SigmaT, dx, u, angular_flux_exit, angular_flux_inc)\n",
    "                angular_flux_inc = angular_flux_exit \n",
    "                #print(\"left: \", cell_average)\n",
    "\n",
    "                # tally flux and current\n",
    "                tally1.scalar_flux[j, g] += w * cell_average\n",
    "                tally1.current[j - 1, g] += w * u * angular_flux_exit\n",
    "\n",
    "            index = j - 1\n",
    "\n",
    "    return angular_flux_exit"
   ]
  },
  {
   "attachments": {},
   "cell_type": "markdown",
   "metadata": {},
   "source": [
    "Main loops"
   ]
  },
  {
   "cell_type": "code",
   "execution_count": 2080,
   "metadata": {},
   "outputs": [],
   "source": [
    "def source_iteration():\n",
    "    iter = 100\n",
    "    scalar_flux_old = np.zeros_like(mesh1.mesh_flux)\n",
    "    G = np.size(tally1.scalar_flux, axis=1)\n",
    "\n",
    "    for g in range(G):\n",
    "        Sg = calculate_source_S(g)\n",
    "        #print(\"SG: \", Sg)\n",
    "\n",
    "        for i in range(iter):\n",
    "            Qg = calculate_source_Q(Sg, g)\n",
    "            #print(\"Q: \", Qg)\n",
    "            tally1.zero_g(g)\n",
    "            \n",
    "            # sweep all angles\n",
    "            for n in range(len(mesh1.U)):\n",
    "                bc_in = np.flip(range(len(mesh1.U)))[n]\n",
    "                bc1.bc[g, n] = sweep(bc1.bc[g, bc_in], Qg, n, g)\n",
    "            \n",
    "            # check convergence\n",
    "            if si_convergence(tally1.scalar_flux[:,g], scalar_flux_old):\n",
    "                break\n",
    "\n",
    "            scalar_flux_old = tally1.scalar_flux[:,g].copy()\n",
    "            #print(\"flux: \", tally1.scalar_flux)"
   ]
  },
  {
   "cell_type": "code",
   "execution_count": 2081,
   "metadata": {},
   "outputs": [],
   "source": [
    "def power_iteration():\n",
    "    iter = 100\n",
    "    k_old = 1\n",
    "    f_old = np.ones_like(source1.fission)\n",
    "    for i in range(iter):\n",
    "        source_iteration()\n",
    "\n",
    "        f_new = calculate_fission_source()\n",
    "        source1.fission = f_new\n",
    "\n",
    "        print(f_new)\n",
    "\n",
    "        k_new = calculate_k(source1.fission, f_old)\n",
    "        tally1.k = k_new\n",
    "\n",
    "        print(k_new)\n",
    "\n",
    "        if f_convergence(f_new, f_old) and k_convergence(k_new, k_old):\n",
    "            break\n",
    "        \n",
    "        f_old = f_new.copy()\n",
    "        k_old = k_new.copy()\n",
    "        \n",
    "        print(\"power\", i)\n"
   ]
  },
  {
   "cell_type": "code",
   "execution_count": 2082,
   "metadata": {},
   "outputs": [],
   "source": [
    "def main_loop():\n",
    "    source_iteration()\n",
    "    print(tally1.scalar_flux)\n",
    "    print(tally1.current)"
   ]
  },
  {
   "attachments": {},
   "cell_type": "markdown",
   "metadata": {},
   "source": [
    "Test"
   ]
  },
  {
   "cell_type": "code",
   "execution_count": 2083,
   "metadata": {},
   "outputs": [],
   "source": [
    "# materials\n",
    "mox1 = material(np.array([0.0,1.0]), \n",
    "              np.array([[0.2,0.2],[0.0,0.2]]), \n",
    "              np.array([1.0,1.0]))\n",
    "\n",
    "mox2 = material(np.array([0.0,0.0]), \n",
    "              np.array([[0.2,0.2],[0.0,0.2]]), \n",
    "              np.array([0.5,0.5]))\n",
    "# cells\n",
    "cells = [cell(0, 4, mox1),cell(4, 7, mox2), cell(7, 11, mox1)]\n",
    "#cells = [cell(0, 10, mox)]\n",
    "\n",
    "# gauss-legendre\n",
    "U, W = leg.leggauss(2)\n",
    "\n",
    "# mesh\n",
    "mesh1 = mesh(11 + 1, 10, \"reflective\", U, W)\n",
    "\n",
    "# initialize tally\n",
    "tally1 = tally(np.zeros((mesh1.Nx-1, 2)), \n",
    "            np.zeros((mesh1.Nx, 2)),\n",
    "            1)\n",
    "\n",
    "# initialize source\n",
    "source1 = source(np.zeros_like(mesh1.mesh_flux), \n",
    "                np.ones_like(mesh1.mesh_flux))\n",
    "\n",
    "# initialize bc\n",
    "bc1 = bc(np.zeros((2, len(mesh1.U))))"
   ]
  },
  {
   "cell_type": "code",
   "execution_count": 2084,
   "metadata": {},
   "outputs": [
    {
     "name": "stdout",
     "output_type": "stream",
     "text": [
      "[[ 3.41458091  2.51347944]\n",
      " [ 3.53925688  2.85765699]\n",
      " [ 3.97992616  3.91646858]\n",
      " [ 5.41280269  6.75732158]\n",
      " [ 7.71477276 10.78420371]\n",
      " [ 8.41154522 12.02922465]\n",
      " [ 7.71477275 10.78420368]\n",
      " [ 5.41280266  6.75732152]\n",
      " [ 3.9799261   3.91646845]\n",
      " [ 3.53925675  2.85765672]\n",
      " [ 3.41458062  2.51347892]]\n",
      "[[-3.67138528e-02 -1.07136143e-01]\n",
      " [-1.66479576e-01 -4.39375084e-01]\n",
      " [-5.51710891e-01 -1.23527971e+00]\n",
      " [-1.78355113e+00 -3.22894011e+00]\n",
      " [-1.49156061e+00 -2.60479049e+00]\n",
      " [ 5.96601435e-09  1.41700540e-08]\n",
      " [ 1.49156062e+00  2.60479051e+00]\n",
      " [ 1.78355114e+00  3.22894015e+00]\n",
      " [ 5.51710926e-01  1.23527978e+00]\n",
      " [ 1.66479653e-01  4.39375223e-01]\n",
      " [ 3.67140238e-02  1.07136388e-01]\n",
      " [-5.19753692e-08 -1.12473220e-07]]\n"
     ]
    }
   ],
   "source": [
    "main_loop()"
   ]
  },
  {
   "attachments": {},
   "cell_type": "markdown",
   "metadata": {},
   "source": [
    "Problem A"
   ]
  },
  {
   "cell_type": "code",
   "execution_count": 2085,
   "metadata": {},
   "outputs": [],
   "source": [
    "# materials\n",
    "mox = material(np.array([0,1.05]), \n",
    "              np.array([[0.25,0],[0,0]]), \n",
    "              np.array([0.25,0.75]))\n",
    "\n",
    "u = material(np.array([0,0.40]), \n",
    "              np.array([[0.25,0],[0,0]]), \n",
    "              np.array([0.25,0.25]))\n",
    "\n",
    "water = material(np.array([0,0]), \n",
    "              np.array([[0.20,0.05],[0,1.25]]), \n",
    "              np.array([0.25,1.25]))\n",
    "# cells\n",
    "cells = []\n",
    "\n",
    "for i in range(8):\n",
    "    i *= 1.25\n",
    "    cells.extend([cell(i+0, i+.3125, water), cell(i+.3125, i+.9375, mox), cell(i+.9375, i+1.25, water)])\n",
    "\n",
    "for i in range(8, 16):\n",
    "    i *= 1.25\n",
    "    cells.extend([cell(i+0, i+.3125, water), cell(i+.3125, i+.9375, u), cell(i+.9375, i+1.25, water)])\n",
    "\n",
    "# gauss-legendre\n",
    "U, W = leg.leggauss(10)\n",
    "\n",
    "# mesh\n",
    "mesh1 = mesh(128 + 1, 20, \"reflective\", U, W)\n",
    "\n",
    "# tally\n",
    "tally1 = tally(np.zeros((mesh1.Nx-1, 2)), \n",
    "               np.zeros((mesh1.Nx, 2)),\n",
    "               1)"
   ]
  }
 ],
 "metadata": {
  "kernelspec": {
   "display_name": "Python 3",
   "language": "python",
   "name": "python3"
  },
  "language_info": {
   "codemirror_mode": {
    "name": "ipython",
    "version": 3
   },
   "file_extension": ".py",
   "mimetype": "text/x-python",
   "name": "python",
   "nbconvert_exporter": "python",
   "pygments_lexer": "ipython3",
   "version": "3.9.5"
  },
  "orig_nbformat": 4
 },
 "nbformat": 4,
 "nbformat_minor": 2
}
