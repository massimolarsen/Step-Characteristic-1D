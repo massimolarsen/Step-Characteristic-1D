{
 "cells": [
  {
   "cell_type": "code",
   "execution_count": 172,
   "metadata": {},
   "outputs": [],
   "source": [
    "import numpy as np\n",
    "import pandas as pd\n",
    "import matplotlib.pyplot as plt\n",
    "import numpy.polynomial.legendre as leg"
   ]
  },
  {
   "attachments": {},
   "cell_type": "markdown",
   "metadata": {},
   "source": [
    "Set up classes"
   ]
  },
  {
   "cell_type": "code",
   "execution_count": 173,
   "metadata": {},
   "outputs": [],
   "source": [
    "class particle:\n",
    "     def __init__(self, alive, mu, x, g, w):\n",
    "        self.alive = alive\n",
    "        self.mu = mu\n",
    "        self.x = x\n",
    "        self.g = g\n",
    "        self.w = w"
   ]
  },
  {
   "cell_type": "code",
   "execution_count": 174,
   "metadata": {},
   "outputs": [],
   "source": [
    "class source:\n",
    "    def __init__(self, scatter, fission):\n",
    "        self.scatter = scatter\n",
    "        self.fission = fission"
   ]
  },
  {
   "cell_type": "code",
   "execution_count": 175,
   "metadata": {},
   "outputs": [],
   "source": [
    "class tally:\n",
    "    def __init__(self, cell_average_flux, cell_edge_flux, current, k):\n",
    "        self.cell_average_flux = cell_average_flux\n",
    "        self.cell_edge_flux = cell_edge_flux\n",
    "        self.current = current\n",
    "        self.k = k\n",
    "    \n",
    "    def zero_g(self, g):\n",
    "        self.cell_average_flux[:, g] *= 0\n",
    "        self.cell_edge_flux[:, g] *= 0\n",
    "        self.current[:, g] *= 0\n",
    "\n",
    "    def zero(self):\n",
    "        self.cell_average_flux *= 0\n",
    "        self.cell_edge_flux *= 0\n",
    "        self.current *= 0"
   ]
  },
  {
   "cell_type": "code",
   "execution_count": 176,
   "metadata": {},
   "outputs": [],
   "source": [
    "class material:\n",
    "    def __init__(self, nuSigmaF, SigmaS, SigmaT):\n",
    "        self.nuSigmaF = nuSigmaF\n",
    "        self.SigmaS = SigmaS\n",
    "        self.SigmaT = SigmaT"
   ]
  },
  {
   "cell_type": "code",
   "execution_count": 177,
   "metadata": {},
   "outputs": [],
   "source": [
    "class cell:\n",
    "    def __init__(self, left, right, material):\n",
    "        self.left = left\n",
    "        self.right = right\n",
    "        self.material = material"
   ]
  },
  {
   "cell_type": "code",
   "execution_count": 178,
   "metadata": {},
   "outputs": [],
   "source": [
    "class mesh:\n",
    "    def __init__(self, Nx, L, bc, U, W):\n",
    "        self.Nx = Nx\n",
    "        self.L = L\n",
    "        self.dx = L/(Nx-1)\n",
    "        self.mesh_x = np.linspace(0, L, Nx)\n",
    "        self.mesh_flux = np.linspace(0, L, Nx-1)\n",
    "        self.bc = bc\n",
    "        self.U = U\n",
    "        self.W = W"
   ]
  },
  {
   "cell_type": "code",
   "execution_count": 179,
   "metadata": {},
   "outputs": [],
   "source": [
    "class bc:\n",
    "    def __init__(self, bc):\n",
    "        self.bc = bc"
   ]
  },
  {
   "attachments": {},
   "cell_type": "markdown",
   "metadata": {},
   "source": [
    "Set up functions"
   ]
  },
  {
   "cell_type": "code",
   "execution_count": 180,
   "metadata": {},
   "outputs": [],
   "source": [
    "def f_convergence(new, old):\n",
    "    # convergence criteria\n",
    "    epi = 1e-5\n",
    "    if np.amax(abs(new - old)) < epi:\n",
    "        return True\n",
    "    else:\n",
    "        return False"
   ]
  },
  {
   "cell_type": "code",
   "execution_count": 181,
   "metadata": {},
   "outputs": [],
   "source": [
    "def k_convergence(new, old):\n",
    "    # convergence criteria\n",
    "    ek = 1e-5\n",
    "    if np.amax(abs((new - old) / new)) < ek:\n",
    "        return True\n",
    "    else:\n",
    "        return False"
   ]
  },
  {
   "cell_type": "code",
   "execution_count": 182,
   "metadata": {},
   "outputs": [],
   "source": [
    "def si_convergence(new, old):\n",
    "    # convergence criteria\n",
    "    esi = 1e-6\n",
    "    if np.amax(abs(new - old) / new) < esi:\n",
    "        return True\n",
    "    else:\n",
    "        return False"
   ]
  },
  {
   "cell_type": "code",
   "execution_count": 183,
   "metadata": {},
   "outputs": [],
   "source": [
    "def get_surface(p, bin_id):\n",
    "    if p.mu > 0:\n",
    "        return bin_id+1\n",
    "    else:\n",
    "        return bin_id"
   ]
  },
  {
   "cell_type": "code",
   "execution_count": 184,
   "metadata": {},
   "outputs": [],
   "source": [
    "def get_material(p, cells):\n",
    "    for i in range(len(cells)):\n",
    "        right = cells[i].right\n",
    "        left = cells[i].left\n",
    "        if p.x >= left and p.x < right:\n",
    "            return cells[i].material"
   ]
  },
  {
   "cell_type": "code",
   "execution_count": 185,
   "metadata": {},
   "outputs": [],
   "source": [
    "def get_pin_average(flux):\n",
    "    # get values\n",
    "    dx = mesh1.dx\n",
    "    hist = np.zeros([48,2])\n",
    "    index = 0\n",
    "\n",
    "    # loop through all cells\n",
    "    for i in range(len(cells)):\n",
    "        # get cell and material data\n",
    "        average0 = 0\n",
    "        average1 = 0\n",
    "        \n",
    "        left = cells[i].left\n",
    "        right = cells[i].right\n",
    "        material = cells[i].material\n",
    "        nuSigmaF = material.nuSigmaF\n",
    "        bins = int((right - left) / dx)\n",
    "\n",
    "        # calculate source for current cell\n",
    "        for j in range(bins):\n",
    "            j += index\n",
    "            average0 += flux[j,0]\n",
    "            average1 += flux[j,1]\n",
    "            \n",
    "        hist[i,0] = average0 / bins\n",
    "        hist[i,1] = average1 / bins\n",
    "\n",
    "        index = j+1\n",
    "\n",
    "    histo = hist.copy()\n",
    "    avg = np.zeros([16,2])\n",
    "    avg_new = np.zeros([17,2])\n",
    "    for i in range(16):\n",
    "        j = i*3\n",
    "        avg[i,:] += (histo[j,:] + histo[j+1,:] + histo[j+2,:]) / 3\n",
    "\n",
    "    avg_new[:,0] = np.insert(avg[:,0], 0, avg[0,0])\n",
    "    avg_new[:,1] = np.insert(avg[:,1], 0, avg[0,1])\n",
    "    return avg_new"
   ]
  },
  {
   "cell_type": "code",
   "execution_count": 186,
   "metadata": {},
   "outputs": [],
   "source": [
    "def calculate_fission_source():\n",
    "    # get values\n",
    "    flux = tally1.cell_average_flux\n",
    "    source = np.zeros(mesh1.Nx-1)\n",
    "    dx = mesh1.dx\n",
    "    index = 0\n",
    "    \n",
    "    # loop through all cells\n",
    "    for i in range(len(cells)):\n",
    "        # get cell and material data\n",
    "        left = cells[i].left\n",
    "        right = cells[i].right\n",
    "        material = cells[i].material\n",
    "        nuSigmaF = material.nuSigmaF\n",
    "        bins = int((right - left) / dx)\n",
    "        \n",
    "        # calculate source for current cell\n",
    "        for j in range(bins):\n",
    "            j += index\n",
    "            source[j] = nuSigmaF[0]*flux[j,0] + nuSigmaF[1]*flux[j,1]\n",
    "            \n",
    "        index = j+1\n",
    "        \n",
    "    return source"
   ]
  },
  {
   "cell_type": "code",
   "execution_count": 187,
   "metadata": {},
   "outputs": [],
   "source": [
    "def calculate_k(fission_new, fission_old):\n",
    "    dx = mesh1.dx\n",
    "    k_new = tally1.k * np.sum(dx*fission_new)/np.sum(dx*fission_old)\n",
    "    return k_new"
   ]
  },
  {
   "cell_type": "code",
   "execution_count": 188,
   "metadata": {},
   "outputs": [],
   "source": [
    "def calculate_source_S(g):\n",
    "    # only has fission source in fast group\n",
    "    if g == 0: \n",
    "        Sg = 1/tally1.k * source1.fission\n",
    "    else:\n",
    "        Sg = np.zeros_like(source1.fission)\n",
    "\n",
    "    # get other values\n",
    "    if g == 0:\n",
    "        g_prime = 1\n",
    "    else:\n",
    "        g_prime = 0\n",
    "    cell_average_flux = tally1.cell_average_flux[:,g_prime]\n",
    "    dx = mesh1.dx\n",
    "    index = 0\n",
    "    \n",
    "    # loop through all cells\n",
    "    for i in range(len(cells)):\n",
    "        # get cell and material data\n",
    "        left = cells[i].left\n",
    "        right = cells[i].right\n",
    "        material = cells[i].material\n",
    "        SigmaS = material.SigmaS\n",
    "        bins = int((right - left) / dx)\n",
    "        \n",
    "        # calculate source for current cell\n",
    "        for j in range(bins):\n",
    "            j += index\n",
    "            Sg[j] += SigmaS[g_prime, g] * cell_average_flux[j]\n",
    "        index = j+1\n",
    "\n",
    "    return Sg"
   ]
  },
  {
   "cell_type": "code",
   "execution_count": 189,
   "metadata": {},
   "outputs": [],
   "source": [
    "def calculate_source_Q(Sg, g):\n",
    "    # get values\n",
    "    Qg = Sg.copy()\n",
    "    cell_average_flux = tally1.cell_average_flux[:,g]\n",
    "    dx = mesh1.dx\n",
    "    index = 0\n",
    "\n",
    "    # loop through all cells\n",
    "    for i in range(len(cells)):\n",
    "        # get cell and material data\n",
    "        left = cells[i].left\n",
    "        right = cells[i].right\n",
    "        material = cells[i].material\n",
    "        SigmaS = material.SigmaS\n",
    "        bins = int((right - left) / dx)\n",
    "        \n",
    "        # calculate source for current cell\n",
    "        for j in range(bins):\n",
    "            j += index\n",
    "            Qg[j] += SigmaS[g, g] * cell_average_flux[j]\n",
    "        index = j+1\n",
    "        \n",
    "\n",
    "    return Qg/2"
   ]
  },
  {
   "cell_type": "code",
   "execution_count": 190,
   "metadata": {},
   "outputs": [],
   "source": [
    "def outgoing_flux(Q, SigmaT, dx, u, angular_flux_inc):\n",
    "    tau = SigmaT * dx / abs(u)\n",
    "    edge_flux = angular_flux_inc * np.exp(-tau) + Q/SigmaT * (1 - np.exp(-tau))\n",
    "    return edge_flux"
   ]
  },
  {
   "cell_type": "code",
   "execution_count": 191,
   "metadata": {},
   "outputs": [],
   "source": [
    "def cell_average_flux(Q, SigmaT, dx, u, angular_flux_inc, angular_flux_exit):\n",
    "    cell_flux = Q/SigmaT - (u * (angular_flux_exit - angular_flux_inc) / (dx * SigmaT))\n",
    "    return cell_flux"
   ]
  },
  {
   "cell_type": "code",
   "execution_count": 192,
   "metadata": {},
   "outputs": [],
   "source": [
    "def sweep(bc_incoming, Q, n, g):\n",
    "    u = mesh1.U[n]\n",
    "    w = mesh1.W[n]\n",
    "    angular_flux_inc = bc_incoming\n",
    "\n",
    "    # sweep right\n",
    "    if u > 0:\n",
    "        index = 0\n",
    "        tally1.current[index, g] += w * u * angular_flux_inc\n",
    "        tally1.cell_edge_flux[index, g] += w * angular_flux_inc\n",
    "        # loop through all cells\n",
    "        for i in range(len(cells)):\n",
    "            # get cell and material data\n",
    "            dx = mesh1.dx\n",
    "            left = cells[i].left\n",
    "            right = cells[i].right\n",
    "            material = cells[i].material\n",
    "            SigmaT = material.SigmaT[g]\n",
    "            bins = int((right - left) / dx)\n",
    "            \n",
    "\n",
    "            # calculate source for current cell\n",
    "            for j in range(bins):\n",
    "                j += index\n",
    "                \n",
    "                # compute cell edge and cell average fluxes, save outgoing flux for next cell\n",
    "                angular_flux_exit = outgoing_flux(Q[j], SigmaT, dx, u, angular_flux_inc)\n",
    "                cell_average = cell_average_flux(Q[j], SigmaT, dx, u, angular_flux_inc, angular_flux_exit)\n",
    "                angular_flux_inc = angular_flux_exit\n",
    "\n",
    "                # tally flux and current\n",
    "                tally1.cell_average_flux[j, g] += w * cell_average\n",
    "                tally1.cell_edge_flux[j + 1, g] += w * angular_flux_exit\n",
    "                tally1.current[j + 1, g] += w * u * angular_flux_exit\n",
    "                \n",
    "\n",
    "            index = j + 1\n",
    "    \n",
    "    # sweep left\n",
    "    if u < 0:\n",
    "        index = mesh1.Nx - 2\n",
    "        tally1.current[index + 1, g] += w * u * angular_flux_inc\n",
    "        tally1.cell_edge_flux[index + 1, g] += w * angular_flux_inc\n",
    "        # loop through all cells\n",
    "        for i in range(len(cells)-1,-1,-1):\n",
    "            # get cell and material data\n",
    "            dx = mesh1.dx\n",
    "            left = cells[i].left\n",
    "            right = cells[i].right\n",
    "            material = cells[i].material\n",
    "            SigmaT = material.SigmaT[g]\n",
    "            bins = int((right - left) / dx)\n",
    "\n",
    "            # calculate source for current cell\n",
    "            for j in range(bins):\n",
    "                j = index - j\n",
    "\n",
    "                # compute cell edge and cell average fluxes, save outgoing flux for next cell\n",
    "                angular_flux_exit = outgoing_flux(Q[j], SigmaT, dx, u, angular_flux_inc)\n",
    "                cell_average = cell_average_flux(Q[j], SigmaT, dx, u, angular_flux_exit, angular_flux_inc)\n",
    "                angular_flux_inc = angular_flux_exit \n",
    "\n",
    "                # tally flux and current\n",
    "                tally1.cell_average_flux[j, g] += w * cell_average\n",
    "                tally1.cell_edge_flux[j, g] += w * angular_flux_exit\n",
    "                tally1.current[j, g] += w * u * angular_flux_exit\n",
    "\n",
    "            index = j - 1\n",
    "\n",
    "    return angular_flux_exit"
   ]
  },
  {
   "attachments": {},
   "cell_type": "markdown",
   "metadata": {},
   "source": [
    "Main loops"
   ]
  },
  {
   "cell_type": "code",
   "execution_count": 193,
   "metadata": {},
   "outputs": [],
   "source": [
    "def source_iteration():\n",
    "    iter = 100\n",
    "    cell_average_flux_old = np.zeros_like(mesh1.mesh_flux)\n",
    "    G = np.size(tally1.cell_average_flux, axis=1)\n",
    "\n",
    "    for g in range(G):\n",
    "        Sg = calculate_source_S(g)\n",
    "        #print(\"SG: \", Sg)\n",
    "\n",
    "        for i in range(iter):\n",
    "            Qg = calculate_source_Q(Sg, g)\n",
    "            #print(\"Q: \", Qg)\n",
    "            tally1.zero_g(g)\n",
    "            \n",
    "            # sweep all angles\n",
    "            for n in range(len(mesh1.U)):\n",
    "                bc_in = np.flip(range(len(mesh1.U)))[n]\n",
    "                bc1.bc[g, n] = sweep(bc1.bc[g, bc_in], Qg, n, g)\n",
    "            \n",
    "            # check convergence\n",
    "            if si_convergence(tally1.cell_average_flux[:,g], cell_average_flux_old):\n",
    "                break\n",
    "\n",
    "            cell_average_flux_old = tally1.cell_average_flux[:,g].copy()\n",
    "        print(\"Energy Group: \", g, \"Source iterations: \", i)"
   ]
  },
  {
   "cell_type": "code",
   "execution_count": 194,
   "metadata": {},
   "outputs": [],
   "source": [
    "def power_iteration():\n",
    "    iter = 100\n",
    "    k_old = 1\n",
    "    f_old = np.ones_like(source1.fission)\n",
    "    for i in range(iter):\n",
    "        source_iteration()\n",
    "\n",
    "        f_new = calculate_fission_source()\n",
    "        source1.fission = f_new\n",
    "\n",
    "        k_new = calculate_k(source1.fission, f_old)\n",
    "        tally1.k = k_new\n",
    "\n",
    "        if f_convergence(f_new, f_old) and k_convergence(k_new, k_old):\n",
    "            break\n",
    "        \n",
    "        f_old = f_new.copy()\n",
    "        k_old = k_new.copy()\n",
    "        \n",
    "        print(\"Power iteration: \", i)\n"
   ]
  },
  {
   "cell_type": "code",
   "execution_count": 195,
   "metadata": {},
   "outputs": [],
   "source": [
    "def main_loop():\n",
    "    power_iteration()\n",
    "    print(\"k:\", tally1.k)"
   ]
  },
  {
   "attachments": {},
   "cell_type": "markdown",
   "metadata": {},
   "source": [
    "Homogenized data"
   ]
  },
  {
   "cell_type": "code",
   "execution_count": 196,
   "metadata": {},
   "outputs": [],
   "source": [
    "# materials\n",
    "m1 = material(np.array([0.0,0.9]), \n",
    "              np.array([[0.2,0],[0.0,0.0]]), \n",
    "              np.array([0.2,0.6]))\n",
    "\n",
    "water = material(np.array([0.0,0.0]), \n",
    "              np.array([[0.17,0.03],[0.0,1.1]]), \n",
    "              np.array([0.2,1.1]))\n",
    "\n",
    "# cells\n",
    "cells = []\n",
    "\n",
    "for i in range(8):\n",
    "    i *= 1.25\n",
    "    cells.extend([cell(i+0, i+.3125, water), cell(i+.3125, i+.9375, m1), cell(i+.9375, i+1.25, water)])\n",
    "\n",
    "# gauss-legendre\n",
    "U, W = leg.leggauss(10)\n",
    "\n",
    "# mesh\n",
    "mesh1 = mesh(64 + 1, 10, \"reflective\", U, W)\n",
    "\n",
    "# tally\n",
    "tally1 = tally(np.zeros((mesh1.Nx-1, 2)), \n",
    "                np.zeros((mesh1.Nx, 2)),\n",
    "                np.zeros((mesh1.Nx, 2)),\n",
    "                1)\n",
    "\n",
    "# initialize source\n",
    "source1 = source(np.zeros_like(mesh1.mesh_flux), \n",
    "                np.ones_like(mesh1.mesh_flux))\n",
    "\n",
    "# initialize bc\n",
    "bc1 = bc(np.zeros((2, len(mesh1.U))))"
   ]
  },
  {
   "cell_type": "code",
   "execution_count": 197,
   "metadata": {},
   "outputs": [
    {
     "name": "stdout",
     "output_type": "stream",
     "text": [
      "Energy Group:  0 Source iterations:  99\n",
      "Energy Group:  1 Source iterations:  42\n",
      "Power iteration:  0\n",
      "Energy Group:  0 Source iterations:  75\n",
      "Energy Group:  1 Source iterations:  20\n",
      "Power iteration:  1\n",
      "Energy Group:  0 Source iterations:  4\n",
      "Energy Group:  1 Source iterations:  3\n",
      "Power iteration:  2\n",
      "Energy Group:  0 Source iterations:  1\n",
      "Energy Group:  1 Source iterations:  1\n",
      "k: 1.499985585490304\n"
     ]
    }
   ],
   "source": [
    "main_loop()"
   ]
  },
  {
   "cell_type": "code",
   "execution_count": 198,
   "metadata": {},
   "outputs": [
    {
     "name": "stdout",
     "output_type": "stream",
     "text": [
      "Fast fR:  0.9956658312609054\n",
      "Fast fL:  0.995667080134069\n",
      "Thermal fR:  1.2222399436006912\n",
      "Thermal fL:  1.2222430662266526\n"
     ]
    }
   ],
   "source": [
    "fast_fr =  tally1.cell_edge_flux[64, 0] / (np.sum(tally1.cell_average_flux[:,0]) / 64)\n",
    "fast_fl = tally1.cell_edge_flux[0, 0] / (np.sum(tally1.cell_average_flux[:,0]) / 64)\n",
    "thermal_fr =  tally1.cell_edge_flux[64, 1] / (np.sum(tally1.cell_average_flux[:,1]) / 64)\n",
    "thermal_fl = tally1.cell_edge_flux[0, 1] / (np.sum(tally1.cell_average_flux[:,1]) / 64)\n",
    "\n",
    "print(\"Fast fR: \", fast_fr)\n",
    "print(\"Fast fL: \", fast_fl)\n",
    "print(\"Thermal fR: \", thermal_fr)\n",
    "print(\"Thermal fL: \", thermal_fl)"
   ]
  },
  {
   "cell_type": "code",
   "execution_count": 273,
   "metadata": {},
   "outputs": [],
   "source": [
    "def homogenize_cs():\n",
    "    # get values\n",
    "    for g in range(2):\n",
    "        print(\"group:\", g)\n",
    "        cell_average_flux = tally1.cell_average_flux[:,g]\n",
    "        cs_sigmat = np.zeros_like(cell_average_flux)\n",
    "        cs_sigmar = np.zeros_like(cell_average_flux)\n",
    "        cs_nusigmaf = np.zeros_like(cell_average_flux)\n",
    "        dx = mesh1.dx\n",
    "        index = 0\n",
    "\n",
    "        # loop through all cells\n",
    "        for i in range(len(cells)):\n",
    "            # get cell and material data\n",
    "            left = cells[i].left\n",
    "            right = cells[i].right\n",
    "            material = cells[i].material\n",
    "            SigmaT = material.SigmaT[g]\n",
    "            nuSigmaF = material.nuSigmaF[g]\n",
    "            if g == 0:\n",
    "                SigmaR = material.SigmaS[0,1]\n",
    "            if g == 1:\n",
    "                SigmaR = SigmaT - material.SigmaS[1,1]\n",
    "\n",
    "            bins = int((right - left) / dx)\n",
    "            \n",
    "            # calculate source for current cell\n",
    "            for j in range(bins):\n",
    "                j += index\n",
    "                #cs_sigmas[j] = SigmaS * cell_average_flux[j]\n",
    "                cs_sigmat[j] = SigmaT * cell_average_flux[j]\n",
    "                cs_sigmar[j] = SigmaR * cell_average_flux[j]\n",
    "                cs_nusigmaf[j] = nuSigmaF * cell_average_flux[j]\n",
    "            index = j+1\n",
    "        \n",
    "        cs_sigmat *= 1/(np.sum(cell_average_flux)/64)\n",
    "        sigt = np.sum(cs_sigmat)/64\n",
    "        D = 1/(3*sigt)\n",
    "        print(\"D:\", D)\n",
    "\n",
    "        cs_nusigmaf *= 1/(np.sum(cell_average_flux)/64)\n",
    "        nusigmaf = np.sum(cs_nusigmaf)/64\n",
    "        print(\"nusigmaf:\", nusigmaf)\n",
    "\n",
    "        cs_sigmar *= 1/(np.sum(cell_average_flux)/64)\n",
    "        sigr = np.sum(cs_sigmar)/64\n",
    "        print(\"SigR:\", sigr)\n",
    "        \n",
    "        if g == 0:\n",
    "            sigsl = sigr.copy()\n",
    "        if g == 1:\n",
    "            print(\"SigSL: \", sigsl)\n",
    "        print(\"\")\n",
    "    return "
   ]
  },
  {
   "cell_type": "code",
   "execution_count": 274,
   "metadata": {},
   "outputs": [
    {
     "name": "stdout",
     "output_type": "stream",
     "text": [
      "group: 0\n",
      "D: 1.6666666666666665\n",
      "nusigmaf: 0.0\n",
      "SigR: 0.014956711204281319\n",
      "\n",
      "group: 1\n",
      "D: 0.37645110385642694\n",
      "nusigmaf: 0.3861675105916773\n",
      "SigR: 0.2574450070611182\n",
      "SigSL:  0.014956711204281319\n",
      "\n"
     ]
    }
   ],
   "source": [
    "homogenize_cs()"
   ]
  },
  {
   "cell_type": "code",
   "execution_count": 152,
   "metadata": {},
   "outputs": [],
   "source": [
    "# materials\n",
    "m2 = material(np.array([0.0,0.45]), \n",
    "              np.array([[0.185,0.015],[0.0,0.9]]), \n",
    "              np.array([0.2,1.2]))\n",
    "\n",
    "water = material(np.array([0.0,0.0]), \n",
    "              np.array([[0.17,0.03],[0.0,1.1]]), \n",
    "              np.array([0.2,1.1]))\n",
    "\n",
    "# cells\n",
    "cells = []\n",
    "\n",
    "for i in range(8):\n",
    "    i *= 1.25\n",
    "    cells.extend([cell(i+0, i+.3125, water), cell(i+.3125, i+.9375, m2), cell(i+.9375, i+1.25, water)])\n",
    "\n",
    "# gauss-legendre\n",
    "U, W = leg.leggauss(10)\n",
    "\n",
    "# mesh\n",
    "mesh1 = mesh(64 + 1, 10, \"reflective\", U, W)\n",
    "\n",
    "# tally\n",
    "tally1 = tally(np.zeros((mesh1.Nx-1, 2)), \n",
    "                np.zeros((mesh1.Nx, 2)),\n",
    "                np.zeros((mesh1.Nx, 2)),\n",
    "                1)\n",
    "\n",
    "# initialize source\n",
    "source1 = source(np.zeros_like(mesh1.mesh_flux), \n",
    "                np.ones_like(mesh1.mesh_flux))\n",
    "\n",
    "# initialize bc\n",
    "bc1 = bc(np.zeros((2, len(mesh1.U))))"
   ]
  },
  {
   "cell_type": "code",
   "execution_count": null,
   "metadata": {},
   "outputs": [],
   "source": []
  },
  {
   "cell_type": "code",
   "execution_count": 153,
   "metadata": {},
   "outputs": [
    {
     "name": "stdout",
     "output_type": "stream",
     "text": [
      "Energy Group:  0 Source iterations:  99\n",
      "Energy Group:  1 Source iterations:  95\n",
      "Power iteration:  0\n",
      "Energy Group:  0 Source iterations:  41\n",
      "Energy Group:  1 Source iterations:  21\n",
      "Power iteration:  1\n",
      "Energy Group:  0 Source iterations:  1\n",
      "Energy Group:  1 Source iterations:  1\n",
      "k: 1.499994483156941\n"
     ]
    }
   ],
   "source": [
    "main_loop()"
   ]
  },
  {
   "cell_type": "code",
   "execution_count": 154,
   "metadata": {},
   "outputs": [
    {
     "name": "stdout",
     "output_type": "stream",
     "text": [
      "Fast fR:  0.9956597870125586\n",
      "Fast fL:  0.9956607256389693\n",
      "Thermal fR:  1.0827241883120133\n",
      "Thermal fL:  1.0827235443898584\n"
     ]
    }
   ],
   "source": [
    "fast_fr =  tally1.cell_edge_flux[64, 0] / (np.sum(tally1.cell_average_flux[:,0]) / 64)\n",
    "fast_fl = tally1.cell_edge_flux[0, 0] / (np.sum(tally1.cell_average_flux[:,0]) / 64)\n",
    "thermal_fr =  tally1.cell_edge_flux[64, 1] / (np.sum(tally1.cell_average_flux[:,1]) / 64)\n",
    "thermal_fl = tally1.cell_edge_flux[0, 1] / (np.sum(tally1.cell_average_flux[:,1]) / 64)\n",
    "\n",
    "print(\"Fast fR: \", fast_fr)\n",
    "print(\"Fast fL: \", fast_fl)\n",
    "print(\"Thermal fR: \", thermal_fr)\n",
    "print(\"Thermal fL: \", thermal_fl)"
   ]
  },
  {
   "cell_type": "code",
   "execution_count": 155,
   "metadata": {},
   "outputs": [],
   "source": [
    "# materials\n",
    "m2 = material(np.array([0.0,0.45]), \n",
    "              np.array([[0.185,0.015],[0.0,0.9]]), \n",
    "              np.array([0.2,1.2]))\n",
    "\n",
    "m3 = material(np.array([0.0,0.345]), \n",
    "              np.array([[0.185,0.015],[0.0,0.9]]), \n",
    "              np.array([0.2,1.13]))\n",
    "\n",
    "m4 = material(np.array([0.0,0.255]), \n",
    "              np.array([[0.185,0.015],[0.0,0.9]]), \n",
    "              np.array([0.2,1.07]))\n",
    "\n",
    "water = material(np.array([0.0,0.0]), \n",
    "              np.array([[0.17,0.03],[0.0,1.1]]), \n",
    "              np.array([0.2,1.1]))\n",
    "\n",
    "# cells\n",
    "cells = []\n",
    "\n",
    "for i in range(6):\n",
    "    i *= 1.25\n",
    "    cells.extend([cell(i+0, i+.3125, water), cell(i+.3125, i+.9375, m2), cell(i+.9375, i+1.25, water)])\n",
    "\n",
    "for i in range(6, 7):\n",
    "    i *= 1.25\n",
    "    cells.extend([cell(i+0, i+.3125, water), cell(i+.3125, i+.9375, m3), cell(i+.9375, i+1.25, water)])\n",
    "\n",
    "for i in range(7, 8):\n",
    "    i *= 1.25\n",
    "    cells.extend([cell(i+0, i+.3125, water), cell(i+.3125, i+.9375, m4), cell(i+.9375, i+1.25, water)])\n",
    "\n",
    "# gauss-legendre\n",
    "U, W = leg.leggauss(10)\n",
    "\n",
    "# mesh\n",
    "mesh1 = mesh(64 + 1, 10, \"reflective\", U, W)\n",
    "\n",
    "# tally\n",
    "tally1 = tally(np.zeros((mesh1.Nx-1, 2)), \n",
    "                np.zeros((mesh1.Nx, 2)),\n",
    "                np.zeros((mesh1.Nx, 2)),\n",
    "                1)\n",
    "\n",
    "# initialize source\n",
    "source1 = source(np.zeros_like(mesh1.mesh_flux), \n",
    "                np.ones_like(mesh1.mesh_flux))\n",
    "\n",
    "# initialize bc\n",
    "bc1 = bc(np.zeros((2, len(mesh1.U))))"
   ]
  },
  {
   "cell_type": "code",
   "execution_count": 156,
   "metadata": {},
   "outputs": [
    {
     "name": "stdout",
     "output_type": "stream",
     "text": [
      "Energy Group:  0 Source iterations:  99\n",
      "Energy Group:  1 Source iterations:  99\n",
      "Power iteration:  0\n",
      "Energy Group:  0 Source iterations:  41\n",
      "Energy Group:  1 Source iterations:  63\n",
      "Power iteration:  1\n",
      "Energy Group:  0 Source iterations:  24\n",
      "Energy Group:  1 Source iterations:  41\n",
      "Power iteration:  2\n",
      "Energy Group:  0 Source iterations:  11\n",
      "Energy Group:  1 Source iterations:  22\n",
      "Power iteration:  3\n",
      "Energy Group:  0 Source iterations:  5\n",
      "Energy Group:  1 Source iterations:  8\n",
      "Power iteration:  4\n",
      "Energy Group:  0 Source iterations:  1\n",
      "Energy Group:  1 Source iterations:  1\n",
      "k: 1.500007802167878\n"
     ]
    }
   ],
   "source": [
    "main_loop()"
   ]
  },
  {
   "cell_type": "code",
   "execution_count": 157,
   "metadata": {},
   "outputs": [
    {
     "name": "stdout",
     "output_type": "stream",
     "text": [
      "Fast fR:  0.9808866107284445\n",
      "Fast fL:  0.9989963523104707\n",
      "Thermal fR:  1.3330566397574428\n",
      "Thermal fL:  0.9830124900362326\n"
     ]
    }
   ],
   "source": [
    "fast_fr =  tally1.cell_edge_flux[64, 0] / (np.sum(tally1.cell_average_flux[:,0]) / 64)\n",
    "fast_fl = tally1.cell_edge_flux[0, 0] / (np.sum(tally1.cell_average_flux[:,0]) / 64)\n",
    "thermal_fr =  tally1.cell_edge_flux[64, 1] / (np.sum(tally1.cell_average_flux[:,1]) / 64)\n",
    "thermal_fl = tally1.cell_edge_flux[0, 1] / (np.sum(tally1.cell_average_flux[:,1]) / 64)\n",
    "\n",
    "print(\"Fast fR: \", fast_fr)\n",
    "print(\"Fast fL: \", fast_fl)\n",
    "print(\"Thermal fR: \", thermal_fr)\n",
    "print(\"Thermal fL: \", thermal_fl)"
   ]
  },
  {
   "cell_type": "code",
   "execution_count": 164,
   "metadata": {},
   "outputs": [],
   "source": [
    "# materials\n",
    "u1 = material(np.array([0.0,0.3]), \n",
    "              np.array([[0.2,0],[0,0]]), \n",
    "              np.array([0.2,0.2]))\n",
    "\n",
    "water = material(np.array([0.0,0.0]), \n",
    "              np.array([[0.17,0.03],[0.0,1.1]]), \n",
    "              np.array([0.2,1.1]))\n",
    "\n",
    "# cells\n",
    "cells = []\n",
    "\n",
    "for i in range(8):\n",
    "    i *= 1.25\n",
    "    cells.extend([cell(i+0, i+.3125, water), cell(i+.3125, i+.9375, u1), cell(i+.9375, i+1.25, water)])\n",
    "\n",
    "# gauss-legendre\n",
    "U, W = leg.leggauss(10)\n",
    "\n",
    "# mesh\n",
    "mesh1 = mesh(64 + 1, 10, \"reflective\", U, W)\n",
    "\n",
    "# tally\n",
    "tally1 = tally(np.zeros((mesh1.Nx-1, 2)), \n",
    "                np.zeros((mesh1.Nx, 2)),\n",
    "                np.zeros((mesh1.Nx, 2)),\n",
    "                1)\n",
    "\n",
    "# initialize source\n",
    "source1 = source(np.zeros_like(mesh1.mesh_flux), \n",
    "                np.ones_like(mesh1.mesh_flux))\n",
    "\n",
    "# initialize bc\n",
    "bc1 = bc(np.zeros((2, len(mesh1.U))))"
   ]
  },
  {
   "cell_type": "code",
   "execution_count": 165,
   "metadata": {},
   "outputs": [
    {
     "name": "stdout",
     "output_type": "stream",
     "text": [
      "Energy Group:  0 Source iterations:  99\n",
      "Energy Group:  1 Source iterations:  84\n",
      "Power iteration:  0\n",
      "Energy Group:  0 Source iterations:  75\n",
      "Energy Group:  1 Source iterations:  36\n",
      "Power iteration:  1\n",
      "Energy Group:  0 Source iterations:  3\n",
      "Energy Group:  1 Source iterations:  3\n",
      "Power iteration:  2\n",
      "Energy Group:  0 Source iterations:  1\n",
      "Energy Group:  1 Source iterations:  1\n",
      "k: 1.4999803656043504\n"
     ]
    }
   ],
   "source": [
    "main_loop()"
   ]
  },
  {
   "cell_type": "code",
   "execution_count": 166,
   "metadata": {},
   "outputs": [
    {
     "name": "stdout",
     "output_type": "stream",
     "text": [
      "Fast fR:  0.9956458169396128\n",
      "Fast fL:  0.9956470906674258\n",
      "Thermal fR:  1.0827951081464646\n",
      "Thermal fL:  1.0827982606952136\n"
     ]
    }
   ],
   "source": [
    "fast_fr =  tally1.cell_edge_flux[64, 0] / (np.sum(tally1.cell_average_flux[:,0]) / 64)\n",
    "fast_fl = tally1.cell_edge_flux[0, 0] / (np.sum(tally1.cell_average_flux[:,0]) / 64)\n",
    "thermal_fr =  tally1.cell_edge_flux[64, 1] / (np.sum(tally1.cell_average_flux[:,1]) / 64)\n",
    "thermal_fl = tally1.cell_edge_flux[0, 1] / (np.sum(tally1.cell_average_flux[:,1]) / 64)\n",
    "\n",
    "print(\"Fast fR: \", fast_fr)\n",
    "print(\"Fast fL: \", fast_fl)\n",
    "print(\"Thermal fR: \", thermal_fr)\n",
    "print(\"Thermal fL: \", thermal_fl)"
   ]
  },
  {
   "cell_type": "code",
   "execution_count": 170,
   "metadata": {},
   "outputs": [
    {
     "data": {
      "text/plain": [
       "0.15"
      ]
     },
     "execution_count": 170,
     "metadata": {},
     "output_type": "execute_result"
    }
   ],
   "source": [
    ".3/2*(np.sum(tally1.cell_average_flux[:,1])) /np.sum(tally1.cell_average_flux[:,1]) "
   ]
  },
  {
   "cell_type": "code",
   "execution_count": 161,
   "metadata": {},
   "outputs": [],
   "source": [
    "# materials\n",
    "u2 = material(np.array([0.0,0.15]), \n",
    "              np.array([[0.185,0.015],[0.0,0.9]]), \n",
    "              np.array([0.2,1.0]))\n",
    "\n",
    "water = material(np.array([0.0,0.0]), \n",
    "              np.array([[0.17,0.03],[0.0,1.1]]), \n",
    "              np.array([0.2,1.1]))\n",
    "\n",
    "# cells\n",
    "cells = []\n",
    "\n",
    "for i in range(8):\n",
    "    i *= 1.25\n",
    "    cells.extend([cell(i+0, i+.3125, water), cell(i+.3125, i+.9375, u2), cell(i+.9375, i+1.25, water)])\n",
    "\n",
    "# gauss-legendre\n",
    "U, W = leg.leggauss(10)\n",
    "\n",
    "# mesh\n",
    "mesh1 = mesh(64 + 1, 10, \"reflective\", U, W)\n",
    "\n",
    "# tally\n",
    "tally1 = tally(np.zeros((mesh1.Nx-1, 2)), \n",
    "                np.zeros((mesh1.Nx, 2)),\n",
    "                np.zeros((mesh1.Nx, 2)),\n",
    "                1)\n",
    "\n",
    "# initialize source\n",
    "source1 = source(np.zeros_like(mesh1.mesh_flux), \n",
    "                np.ones_like(mesh1.mesh_flux))\n",
    "\n",
    "# initialize bc\n",
    "bc1 = bc(np.zeros((2, len(mesh1.U))))"
   ]
  },
  {
   "cell_type": "code",
   "execution_count": 162,
   "metadata": {},
   "outputs": [
    {
     "name": "stdout",
     "output_type": "stream",
     "text": [
      "Energy Group:  0 Source iterations:  99\n",
      "Energy Group:  1 Source iterations:  99\n",
      "Power iteration:  0\n",
      "Energy Group:  0 Source iterations:  41\n",
      "Energy Group:  1 Source iterations:  99\n",
      "Power iteration:  1\n",
      "Energy Group:  0 Source iterations:  11\n",
      "Energy Group:  1 Source iterations:  41\n",
      "Power iteration:  2\n",
      "Energy Group:  0 Source iterations:  5\n",
      "Energy Group:  1 Source iterations:  8\n",
      "Power iteration:  3\n",
      "Energy Group:  0 Source iterations:  1\n",
      "Energy Group:  1 Source iterations:  1\n",
      "k: 1.4999801469021337\n"
     ]
    }
   ],
   "source": [
    "main_loop()"
   ]
  },
  {
   "cell_type": "code",
   "execution_count": 163,
   "metadata": {},
   "outputs": [
    {
     "name": "stdout",
     "output_type": "stream",
     "text": [
      "Fast fR:  0.9956465679245036\n",
      "Fast fL:  0.9956505652295919\n",
      "Thermal fR:  1.0284900592358555\n",
      "Thermal fL:  1.0285049626366953\n"
     ]
    }
   ],
   "source": [
    "fast_fr =  tally1.cell_edge_flux[64, 0] / (np.sum(tally1.cell_average_flux[:,0]) / 64)\n",
    "fast_fl = tally1.cell_edge_flux[0, 0] / (np.sum(tally1.cell_average_flux[:,0]) / 64)\n",
    "thermal_fr =  tally1.cell_edge_flux[64, 1] / (np.sum(tally1.cell_average_flux[:,1]) / 64)\n",
    "thermal_fl = tally1.cell_edge_flux[0, 1] / (np.sum(tally1.cell_average_flux[:,1]) / 64)\n",
    "\n",
    "print(\"Fast fR: \", fast_fr)\n",
    "print(\"Fast fL: \", fast_fl)\n",
    "print(\"Thermal fR: \", thermal_fr)\n",
    "print(\"Thermal fL: \", thermal_fl)"
   ]
  },
  {
   "cell_type": "code",
   "execution_count": null,
   "metadata": {},
   "outputs": [],
   "source": []
  }
 ],
 "metadata": {
  "kernelspec": {
   "display_name": "Python 3",
   "language": "python",
   "name": "python3"
  },
  "language_info": {
   "codemirror_mode": {
    "name": "ipython",
    "version": 3
   },
   "file_extension": ".py",
   "mimetype": "text/x-python",
   "name": "python",
   "nbconvert_exporter": "python",
   "pygments_lexer": "ipython3",
   "version": "3.9.5"
  },
  "orig_nbformat": 4
 },
 "nbformat": 4,
 "nbformat_minor": 2
}
